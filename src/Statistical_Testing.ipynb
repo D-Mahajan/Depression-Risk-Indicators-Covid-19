{
  "nbformat": 4,
  "nbformat_minor": 0,
  "metadata": {
    "kernelspec": {
      "display_name": "Python 3",
      "language": "python",
      "name": "python3"
    },
    "language_info": {
      "codemirror_mode": {
        "name": "ipython",
        "version": 3
      },
      "file_extension": ".py",
      "mimetype": "text/x-python",
      "name": "python",
      "nbconvert_exporter": "python",
      "pygments_lexer": "ipython3",
      "version": "3.6.1"
    },
    "colab": {
      "name": "Statistical Testing .ipynb",
      "provenance": [],
      "collapsed_sections": [
        "40rfC3o5hBbO",
        "_AX-W2EfhWuN",
        "RLG2MANWhkVw",
        "Ws1YtHDvLDsU",
        "KK-0E96cq-1y",
        "_sZVOg8fh-Al",
        "pWanPkGAiD2b",
        "p1GLKlrviVGU",
        "uId6haud4_NA",
        "N-MY2Dg7LDsX",
        "rECnuCrJi1Vz",
        "YNb8H4hKi-SF",
        "KyuwIx5eFXKS",
        "p1vv5_63AZ6V",
        "k3w_XQ3sj5SD",
        "B4iiFCCvrm72",
        "qU0ga0Y2kMaJ",
        "sPSVXFutkYQd",
        "J29B5yVvtWd8",
        "YJ0q7u3jmssw",
        "o5ftkpJ6m8EK",
        "7kqErr4nm_Au",
        "ERWD3yxPnEhA",
        "3TfFnOQrnIFh",
        "7QtFIW9qnMw1"
      ]
    }
  },
  "cells": [
    {
      "cell_type": "markdown",
      "metadata": {
        "id": "-xTRrQI7pqJT"
      },
      "source": [
        "**Stastical Testing**"
      ]
    },
    {
      "cell_type": "markdown",
      "metadata": {
        "id": "40rfC3o5hBbO"
      },
      "source": [
        "### Install libraries for Anova and Wilcoxon"
      ]
    },
    {
      "cell_type": "code",
      "metadata": {
        "colab": {
          "base_uri": "https://localhost:8080/"
        },
        "id": "yNyw3RoUNhCV",
        "outputId": "cbf48415-c059-49ef-c9ff-5fcf1765ad09"
      },
      "source": [
        "!pip install mlxtend\n",
        "!pip install pingouin\n",
        "!pip install statsmodels"
      ],
      "execution_count": 109,
      "outputs": [
        {
          "output_type": "stream",
          "text": [
            "Requirement already satisfied: mlxtend in /usr/local/lib/python3.7/dist-packages (0.14.0)\n",
            "Requirement already satisfied: scipy>=0.17 in /usr/local/lib/python3.7/dist-packages (from mlxtend) (1.4.1)\n",
            "Requirement already satisfied: setuptools in /usr/local/lib/python3.7/dist-packages (from mlxtend) (56.0.0)\n",
            "Requirement already satisfied: numpy>=1.10.4 in /usr/local/lib/python3.7/dist-packages (from mlxtend) (1.19.5)\n",
            "Requirement already satisfied: pandas>=0.17.1 in /usr/local/lib/python3.7/dist-packages (from mlxtend) (1.1.5)\n",
            "Requirement already satisfied: matplotlib>=1.5.1 in /usr/local/lib/python3.7/dist-packages (from mlxtend) (3.2.2)\n",
            "Requirement already satisfied: scikit-learn>=0.18 in /usr/local/lib/python3.7/dist-packages (from mlxtend) (0.22.2.post1)\n",
            "Requirement already satisfied: pytz>=2017.2 in /usr/local/lib/python3.7/dist-packages (from pandas>=0.17.1->mlxtend) (2018.9)\n",
            "Requirement already satisfied: python-dateutil>=2.7.3 in /usr/local/lib/python3.7/dist-packages (from pandas>=0.17.1->mlxtend) (2.8.1)\n",
            "Requirement already satisfied: kiwisolver>=1.0.1 in /usr/local/lib/python3.7/dist-packages (from matplotlib>=1.5.1->mlxtend) (1.3.1)\n",
            "Requirement already satisfied: cycler>=0.10 in /usr/local/lib/python3.7/dist-packages (from matplotlib>=1.5.1->mlxtend) (0.10.0)\n",
            "Requirement already satisfied: pyparsing!=2.0.4,!=2.1.2,!=2.1.6,>=2.0.1 in /usr/local/lib/python3.7/dist-packages (from matplotlib>=1.5.1->mlxtend) (2.4.7)\n",
            "Requirement already satisfied: joblib>=0.11 in /usr/local/lib/python3.7/dist-packages (from scikit-learn>=0.18->mlxtend) (1.0.1)\n",
            "Requirement already satisfied: six>=1.5 in /usr/local/lib/python3.7/dist-packages (from python-dateutil>=2.7.3->pandas>=0.17.1->mlxtend) (1.15.0)\n",
            "Requirement already satisfied: pingouin in /usr/local/lib/python3.7/dist-packages (0.3.11)\n",
            "Requirement already satisfied: outdated in /usr/local/lib/python3.7/dist-packages (from pingouin) (0.2.1)\n",
            "Requirement already satisfied: statsmodels>=0.10.0 in /usr/local/lib/python3.7/dist-packages (from pingouin) (0.10.2)\n",
            "Requirement already satisfied: pandas>=0.24 in /usr/local/lib/python3.7/dist-packages (from pingouin) (1.1.5)\n",
            "Requirement already satisfied: pandas-flavor>=0.1.2 in /usr/local/lib/python3.7/dist-packages (from pingouin) (0.2.0)\n",
            "Requirement already satisfied: tabulate in /usr/local/lib/python3.7/dist-packages (from pingouin) (0.8.9)\n",
            "Requirement already satisfied: scipy>=1.3 in /usr/local/lib/python3.7/dist-packages (from pingouin) (1.4.1)\n",
            "Requirement already satisfied: seaborn>=0.9.0 in /usr/local/lib/python3.7/dist-packages (from pingouin) (0.11.1)\n",
            "Requirement already satisfied: scikit-learn in /usr/local/lib/python3.7/dist-packages (from pingouin) (0.22.2.post1)\n",
            "Requirement already satisfied: matplotlib>=3.0.2 in /usr/local/lib/python3.7/dist-packages (from pingouin) (3.2.2)\n",
            "Requirement already satisfied: numpy>=1.15 in /usr/local/lib/python3.7/dist-packages (from pingouin) (1.19.5)\n",
            "Requirement already satisfied: requests in /usr/local/lib/python3.7/dist-packages (from outdated->pingouin) (2.23.0)\n",
            "Requirement already satisfied: littleutils in /usr/local/lib/python3.7/dist-packages (from outdated->pingouin) (0.2.2)\n",
            "Requirement already satisfied: patsy>=0.4.0 in /usr/local/lib/python3.7/dist-packages (from statsmodels>=0.10.0->pingouin) (0.5.1)\n",
            "Requirement already satisfied: python-dateutil>=2.7.3 in /usr/local/lib/python3.7/dist-packages (from pandas>=0.24->pingouin) (2.8.1)\n",
            "Requirement already satisfied: pytz>=2017.2 in /usr/local/lib/python3.7/dist-packages (from pandas>=0.24->pingouin) (2018.9)\n",
            "Requirement already satisfied: xarray in /usr/local/lib/python3.7/dist-packages (from pandas-flavor>=0.1.2->pingouin) (0.15.1)\n",
            "Requirement already satisfied: joblib>=0.11 in /usr/local/lib/python3.7/dist-packages (from scikit-learn->pingouin) (1.0.1)\n",
            "Requirement already satisfied: pyparsing!=2.0.4,!=2.1.2,!=2.1.6,>=2.0.1 in /usr/local/lib/python3.7/dist-packages (from matplotlib>=3.0.2->pingouin) (2.4.7)\n",
            "Requirement already satisfied: cycler>=0.10 in /usr/local/lib/python3.7/dist-packages (from matplotlib>=3.0.2->pingouin) (0.10.0)\n",
            "Requirement already satisfied: kiwisolver>=1.0.1 in /usr/local/lib/python3.7/dist-packages (from matplotlib>=3.0.2->pingouin) (1.3.1)\n",
            "Requirement already satisfied: idna<3,>=2.5 in /usr/local/lib/python3.7/dist-packages (from requests->outdated->pingouin) (2.10)\n",
            "Requirement already satisfied: chardet<4,>=3.0.2 in /usr/local/lib/python3.7/dist-packages (from requests->outdated->pingouin) (3.0.4)\n",
            "Requirement already satisfied: urllib3!=1.25.0,!=1.25.1,<1.26,>=1.21.1 in /usr/local/lib/python3.7/dist-packages (from requests->outdated->pingouin) (1.24.3)\n",
            "Requirement already satisfied: certifi>=2017.4.17 in /usr/local/lib/python3.7/dist-packages (from requests->outdated->pingouin) (2020.12.5)\n",
            "Requirement already satisfied: six in /usr/local/lib/python3.7/dist-packages (from patsy>=0.4.0->statsmodels>=0.10.0->pingouin) (1.15.0)\n",
            "Requirement already satisfied: setuptools>=41.2 in /usr/local/lib/python3.7/dist-packages (from xarray->pandas-flavor>=0.1.2->pingouin) (56.0.0)\n",
            "Requirement already satisfied: statsmodels in /usr/local/lib/python3.7/dist-packages (0.10.2)\n",
            "Requirement already satisfied: patsy>=0.4.0 in /usr/local/lib/python3.7/dist-packages (from statsmodels) (0.5.1)\n",
            "Requirement already satisfied: numpy>=1.11 in /usr/local/lib/python3.7/dist-packages (from statsmodels) (1.19.5)\n",
            "Requirement already satisfied: pandas>=0.19 in /usr/local/lib/python3.7/dist-packages (from statsmodels) (1.1.5)\n",
            "Requirement already satisfied: scipy>=0.18 in /usr/local/lib/python3.7/dist-packages (from statsmodels) (1.4.1)\n",
            "Requirement already satisfied: six in /usr/local/lib/python3.7/dist-packages (from patsy>=0.4.0->statsmodels) (1.15.0)\n",
            "Requirement already satisfied: python-dateutil>=2.7.3 in /usr/local/lib/python3.7/dist-packages (from pandas>=0.19->statsmodels) (2.8.1)\n",
            "Requirement already satisfied: pytz>=2017.2 in /usr/local/lib/python3.7/dist-packages (from pandas>=0.19->statsmodels) (2018.9)\n"
          ],
          "name": "stdout"
        }
      ]
    },
    {
      "cell_type": "code",
      "metadata": {
        "id": "qHRwZ9PHLWFZ",
        "colab": {
          "base_uri": "https://localhost:8080/"
        },
        "outputId": "be1d0768-b4ca-4880-a916-6d971554aedc"
      },
      "source": [
        "#Importing neccessary libraries\n",
        "import pickle\n",
        "import calendar\n",
        "from datetime import datetime\n",
        "import csv\n",
        "import os \n",
        "import pandas as pd\n",
        "import numpy as np\n",
        "from scipy import stats\n",
        "from mlxtend.evaluate import bootstrap,permutation_test\n",
        "import seaborn as sns\n",
        "import matplotlib.pyplot as plt\n",
        "from pingouin import mixed_anova, read_dataset\n",
        "from statsmodels.graphics.factorplots import interaction_plot"
      ],
      "execution_count": 110,
      "outputs": [
        {
          "output_type": "stream",
          "text": [
            "/usr/local/lib/python3.7/dist-packages/statsmodels/tools/_testing.py:19: FutureWarning: pandas.util.testing is deprecated. Use the functions in the public API at pandas.testing instead.\n",
            "  import pandas.util.testing as tm\n"
          ],
          "name": "stderr"
        }
      ]
    },
    {
      "cell_type": "markdown",
      "metadata": {
        "id": "_AX-W2EfhWuN"
      },
      "source": [
        "### Mounting Google Drive"
      ]
    },
    {
      "cell_type": "code",
      "metadata": {
        "colab": {
          "base_uri": "https://localhost:8080/"
        },
        "id": "DN8Z6rcmb04H",
        "outputId": "2b8a8c0e-9013-4123-e890-9e8af77bcc8f"
      },
      "source": [
        "from google.colab import drive\n",
        "drive.mount('/content/drive')"
      ],
      "execution_count": 3,
      "outputs": [
        {
          "output_type": "stream",
          "text": [
            "Mounted at /content/drive\n"
          ],
          "name": "stdout"
        }
      ]
    },
    {
      "cell_type": "markdown",
      "metadata": {
        "id": "RLG2MANWhkVw"
      },
      "source": [
        "### Declaring folders and read csv files for processing"
      ]
    },
    {
      "cell_type": "code",
      "metadata": {
        "id": "5fZtAu7ZbAFX"
      },
      "source": [
        "#precovid_user_history_folder = '/content/drive/MyDrive/MMT_Project_Data/PreCovidData/hashed_listening_history'\n",
        "precovid_session_folder = '/content/drive/MyDrive/MMT_Project_Data/PreCovidData/sessions/'\n",
        "precovid_track_folder = '/content/drive/MyDrive/MMT_Project_Data/PreCovidData/tracks/'\n",
        "\n",
        "#durcovid_user_history_folder = '/content/drive/MyDrive/MMT_Project_Data/DurCovidData/hashed_listening_history'\n",
        "durcovid_session_folder = '/content/drive/MyDrive/MMT_Project_Data/DurCovidData/sessions/'\n",
        "durcovid_track_folder = '/content/drive/MyDrive/MMT_Project_Data/DurCovidData/tracks/'\n"
      ],
      "execution_count": 4,
      "outputs": []
    },
    {
      "cell_type": "code",
      "metadata": {
        "id": "C-JOtlRqhRa6"
      },
      "source": [
        "#Read Files \n",
        "user_info = pd.read_csv('/content/drive/MyDrive/MMT_Project_Data/user_info.csv')\n",
        "\n",
        "precovid_all_user_summary = pd.read_csv('/content/drive/MyDrive/MMT_Project_Data/PreCovidData/all_user_summary.csv')\n",
        "precovid_user_variability = pd.read_csv('/content/drive/MyDrive/MMT_Project_Data/PreCovidData/all_user_variability.csv') \n",
        "precovid_user_autocorr = pd.read_csv('/content/drive/MyDrive/MMT_Project_Data/PreCovidData/all_user_autocorr.csv') \n",
        "\n",
        "durcovid_all_user_summary = pd.read_csv('/content/drive/MyDrive/MMT_Project_Data/DurCovidData/all_user_summary.csv')\n",
        "durcovid_user_variability = pd.read_csv('/content/drive/MyDrive/MMT_Project_Data/DurCovidData/all_user_variability.csv') \n",
        "durcovid_user_autocorr = pd.read_csv('/content/drive/MyDrive/MMT_Project_Data/DurCovidData/all_user_autocorr.csv') \n",
        "\n"
      ],
      "execution_count": 5,
      "outputs": []
    },
    {
      "cell_type": "code",
      "metadata": {
        "colab": {
          "base_uri": "https://localhost:8080/",
          "height": 224
        },
        "id": "N7XXHPfY01Ad",
        "outputId": "143b9d19-51ec-4e33-92a5-009d2e1e0bef"
      },
      "source": [
        "durcovid_all_user_summary.head()"
      ],
      "execution_count": 29,
      "outputs": [
        {
          "output_type": "execute_result",
          "data": {
            "text/html": [
              "<div>\n",
              "<style scoped>\n",
              "    .dataframe tbody tr th:only-of-type {\n",
              "        vertical-align: middle;\n",
              "    }\n",
              "\n",
              "    .dataframe tbody tr th {\n",
              "        vertical-align: top;\n",
              "    }\n",
              "\n",
              "    .dataframe thead th {\n",
              "        text-align: right;\n",
              "    }\n",
              "</style>\n",
              "<table border=\"1\" class=\"dataframe\">\n",
              "  <thead>\n",
              "    <tr style=\"text-align: right;\">\n",
              "      <th></th>\n",
              "      <th>user_id</th>\n",
              "      <th>K10</th>\n",
              "      <th>total_session</th>\n",
              "      <th>total_tracks</th>\n",
              "      <th>repetitiveness_index</th>\n",
              "      <th>danceability</th>\n",
              "      <th>loudness</th>\n",
              "      <th>mode</th>\n",
              "      <th>speechiness</th>\n",
              "      <th>acousticness</th>\n",
              "      <th>instrumentalness</th>\n",
              "      <th>liveness</th>\n",
              "      <th>tempo</th>\n",
              "      <th>QPS_Q1</th>\n",
              "      <th>QPS_Q2</th>\n",
              "      <th>QPS_Q3</th>\n",
              "      <th>QPS_Q4</th>\n",
              "    </tr>\n",
              "  </thead>\n",
              "  <tbody>\n",
              "    <tr>\n",
              "      <th>0</th>\n",
              "      <td>05157feb07f9e780637ffb96ae549365</td>\n",
              "      <td>38</td>\n",
              "      <td>366</td>\n",
              "      <td>12888</td>\n",
              "      <td>0.310285</td>\n",
              "      <td>0.431723</td>\n",
              "      <td>-9.321963</td>\n",
              "      <td>0.594351</td>\n",
              "      <td>0.082784</td>\n",
              "      <td>0.240250</td>\n",
              "      <td>0.380948</td>\n",
              "      <td>0.213070</td>\n",
              "      <td>120.063777</td>\n",
              "      <td>0.226102</td>\n",
              "      <td>0.476490</td>\n",
              "      <td>0.210583</td>\n",
              "      <td>0.086825</td>\n",
              "    </tr>\n",
              "    <tr>\n",
              "      <th>1</th>\n",
              "      <td>06bd850533a713bb7800766860dc6e6e</td>\n",
              "      <td>22</td>\n",
              "      <td>299</td>\n",
              "      <td>4334</td>\n",
              "      <td>0.034181</td>\n",
              "      <td>0.467363</td>\n",
              "      <td>-9.289524</td>\n",
              "      <td>0.720351</td>\n",
              "      <td>0.069420</td>\n",
              "      <td>0.229323</td>\n",
              "      <td>0.139225</td>\n",
              "      <td>0.227184</td>\n",
              "      <td>122.156419</td>\n",
              "      <td>0.388786</td>\n",
              "      <td>0.346101</td>\n",
              "      <td>0.163359</td>\n",
              "      <td>0.101754</td>\n",
              "    </tr>\n",
              "    <tr>\n",
              "      <th>2</th>\n",
              "      <td>03e7c2869742ac3b8b04a45675ab5b24</td>\n",
              "      <td>12</td>\n",
              "      <td>316</td>\n",
              "      <td>26177</td>\n",
              "      <td>0.312838</td>\n",
              "      <td>0.496138</td>\n",
              "      <td>-11.763121</td>\n",
              "      <td>0.692555</td>\n",
              "      <td>0.070508</td>\n",
              "      <td>0.536651</td>\n",
              "      <td>0.243316</td>\n",
              "      <td>0.168592</td>\n",
              "      <td>116.045884</td>\n",
              "      <td>0.192192</td>\n",
              "      <td>0.200252</td>\n",
              "      <td>0.493028</td>\n",
              "      <td>0.114528</td>\n",
              "    </tr>\n",
              "    <tr>\n",
              "      <th>3</th>\n",
              "      <td>0538da9949fdaa2da6e5f18c0a27e146</td>\n",
              "      <td>30</td>\n",
              "      <td>283</td>\n",
              "      <td>3497</td>\n",
              "      <td>0.051485</td>\n",
              "      <td>0.558748</td>\n",
              "      <td>-8.510295</td>\n",
              "      <td>0.690306</td>\n",
              "      <td>0.097809</td>\n",
              "      <td>0.288765</td>\n",
              "      <td>0.164338</td>\n",
              "      <td>0.193386</td>\n",
              "      <td>123.790945</td>\n",
              "      <td>0.326280</td>\n",
              "      <td>0.369460</td>\n",
              "      <td>0.246783</td>\n",
              "      <td>0.057478</td>\n",
              "    </tr>\n",
              "    <tr>\n",
              "      <th>4</th>\n",
              "      <td>03c38064fb423b47d5292bffc09785cc</td>\n",
              "      <td>19</td>\n",
              "      <td>282</td>\n",
              "      <td>3682</td>\n",
              "      <td>0.170458</td>\n",
              "      <td>0.493990</td>\n",
              "      <td>-10.037932</td>\n",
              "      <td>0.640141</td>\n",
              "      <td>0.055906</td>\n",
              "      <td>0.253201</td>\n",
              "      <td>0.247158</td>\n",
              "      <td>0.212354</td>\n",
              "      <td>120.787736</td>\n",
              "      <td>0.356600</td>\n",
              "      <td>0.338946</td>\n",
              "      <td>0.230853</td>\n",
              "      <td>0.073601</td>\n",
              "    </tr>\n",
              "  </tbody>\n",
              "</table>\n",
              "</div>"
            ],
            "text/plain": [
              "                            user_id  K10  ...    QPS_Q3    QPS_Q4\n",
              "0  05157feb07f9e780637ffb96ae549365   38  ...  0.210583  0.086825\n",
              "1  06bd850533a713bb7800766860dc6e6e   22  ...  0.163359  0.101754\n",
              "2  03e7c2869742ac3b8b04a45675ab5b24   12  ...  0.493028  0.114528\n",
              "3  0538da9949fdaa2da6e5f18c0a27e146   30  ...  0.246783  0.057478\n",
              "4  03c38064fb423b47d5292bffc09785cc   19  ...  0.230853  0.073601\n",
              "\n",
              "[5 rows x 17 columns]"
            ]
          },
          "metadata": {
            "tags": []
          },
          "execution_count": 29
        }
      ]
    },
    {
      "cell_type": "code",
      "metadata": {
        "id": "frbLv3qVm9NR"
      },
      "source": [
        "feature_columns_with_ri = ['danceability','loudness','mode','speechiness','acousticness','instrumentalness',\n",
        "           'liveness','tempo','QPS_Q1','QPS_Q2','QPS_Q3','QPS_Q4','total_session','total_tracks','repetitiveness_index']\n",
        "feature_columns = ['danceability','loudness','mode','speechiness','acousticness','instrumentalness',\n",
        "           'liveness','tempo','QPS_Q1','QPS_Q2','QPS_Q3','QPS_Q4']"
      ],
      "execution_count": 30,
      "outputs": []
    },
    {
      "cell_type": "markdown",
      "metadata": {
        "collapsed": true,
        "id": "Ws1YtHDvLDsU"
      },
      "source": [
        "### Separate User for At-Risk and No-Risk"
      ]
    },
    {
      "cell_type": "code",
      "metadata": {
        "id": "wBj3pJTQLDsV"
      },
      "source": [
        "k_10=user_info['K-10']\n",
        "at_risk_users = user_info[k_10>29]['Your last.fm username'].values\n",
        "no_risk_users = user_info[k_10<20]['Your last.fm username'].values"
      ],
      "execution_count": 7,
      "outputs": []
    },
    {
      "cell_type": "code",
      "metadata": {
        "id": "zGJv4-qoLDsW",
        "colab": {
          "base_uri": "https://localhost:8080/"
        },
        "outputId": "39a8f01f-1907-49b0-9aa3-97e133a99ff0"
      },
      "source": [
        "print(f'Number of No-Risk users : {len(no_risk_users)}')\n",
        "print(f'Number of At-Risk users : {len(at_risk_users)}')\n",
        "print(f'Total Number of users : {len(k_10)}')"
      ],
      "execution_count": 8,
      "outputs": [
        {
          "output_type": "stream",
          "text": [
            "Number of No-Risk users : 180\n",
            "Number of At-Risk users : 120\n",
            "Total Number of users : 485\n"
          ],
          "name": "stdout"
        }
      ]
    },
    {
      "cell_type": "markdown",
      "metadata": {
        "id": "KK-0E96cq-1y"
      },
      "source": [
        "### We performed Wilcoxon signed-rank test on features to get relationship between pre-covid and during covid data."
      ]
    },
    {
      "cell_type": "markdown",
      "metadata": {
        "id": "_sZVOg8fh-Al"
      },
      "source": [
        "#### For At Risk users"
      ]
    },
    {
      "cell_type": "code",
      "metadata": {
        "id": "3yKFMFtmLDsa",
        "colab": {
          "base_uri": "https://localhost:8080/",
          "height": 514
        },
        "outputId": "748981b3-6bcd-43d2-e6c2-7cbe1a844a76"
      },
      "source": [
        "#At Risk\n",
        "precovid_at_risk_features = precovid_all_user_summary[precovid_all_user_summary['K10']>29]\n",
        "durcovid_at_risk_features = durcovid_all_user_summary[durcovid_all_user_summary['K10']>29]\n",
        "all_pvalues = []\n",
        "for f in feature_columns_with_ri:\n",
        "    _,p = stats.wilcoxon(precovid_at_risk_features[f],durcovid_at_risk_features[f])\n",
        "    all_pvalues.append(p)\n",
        "pd.DataFrame(all_pvalues,columns=['p_value']\n",
        "             ,index=feature_columns_with_ri)"
      ],
      "execution_count": 31,
      "outputs": [
        {
          "output_type": "execute_result",
          "data": {
            "text/html": [
              "<div>\n",
              "<style scoped>\n",
              "    .dataframe tbody tr th:only-of-type {\n",
              "        vertical-align: middle;\n",
              "    }\n",
              "\n",
              "    .dataframe tbody tr th {\n",
              "        vertical-align: top;\n",
              "    }\n",
              "\n",
              "    .dataframe thead th {\n",
              "        text-align: right;\n",
              "    }\n",
              "</style>\n",
              "<table border=\"1\" class=\"dataframe\">\n",
              "  <thead>\n",
              "    <tr style=\"text-align: right;\">\n",
              "      <th></th>\n",
              "      <th>p_value</th>\n",
              "    </tr>\n",
              "  </thead>\n",
              "  <tbody>\n",
              "    <tr>\n",
              "      <th>danceability</th>\n",
              "      <td>0.441331</td>\n",
              "    </tr>\n",
              "    <tr>\n",
              "      <th>loudness</th>\n",
              "      <td>0.616931</td>\n",
              "    </tr>\n",
              "    <tr>\n",
              "      <th>mode</th>\n",
              "      <td>0.731544</td>\n",
              "    </tr>\n",
              "    <tr>\n",
              "      <th>speechiness</th>\n",
              "      <td>0.553941</td>\n",
              "    </tr>\n",
              "    <tr>\n",
              "      <th>acousticness</th>\n",
              "      <td>0.733515</td>\n",
              "    </tr>\n",
              "    <tr>\n",
              "      <th>instrumentalness</th>\n",
              "      <td>0.842236</td>\n",
              "    </tr>\n",
              "    <tr>\n",
              "      <th>liveness</th>\n",
              "      <td>0.834050</td>\n",
              "    </tr>\n",
              "    <tr>\n",
              "      <th>tempo</th>\n",
              "      <td>0.977018</td>\n",
              "    </tr>\n",
              "    <tr>\n",
              "      <th>QPS_Q1</th>\n",
              "      <td>0.402009</td>\n",
              "    </tr>\n",
              "    <tr>\n",
              "      <th>QPS_Q2</th>\n",
              "      <td>0.240694</td>\n",
              "    </tr>\n",
              "    <tr>\n",
              "      <th>QPS_Q3</th>\n",
              "      <td>0.663757</td>\n",
              "    </tr>\n",
              "    <tr>\n",
              "      <th>QPS_Q4</th>\n",
              "      <td>0.763285</td>\n",
              "    </tr>\n",
              "    <tr>\n",
              "      <th>total_session</th>\n",
              "      <td>0.395418</td>\n",
              "    </tr>\n",
              "    <tr>\n",
              "      <th>total_tracks</th>\n",
              "      <td>0.754315</td>\n",
              "    </tr>\n",
              "    <tr>\n",
              "      <th>repetitiveness_index</th>\n",
              "      <td>0.956141</td>\n",
              "    </tr>\n",
              "  </tbody>\n",
              "</table>\n",
              "</div>"
            ],
            "text/plain": [
              "                       p_value\n",
              "danceability          0.441331\n",
              "loudness              0.616931\n",
              "mode                  0.731544\n",
              "speechiness           0.553941\n",
              "acousticness          0.733515\n",
              "instrumentalness      0.842236\n",
              "liveness              0.834050\n",
              "tempo                 0.977018\n",
              "QPS_Q1                0.402009\n",
              "QPS_Q2                0.240694\n",
              "QPS_Q3                0.663757\n",
              "QPS_Q4                0.763285\n",
              "total_session         0.395418\n",
              "total_tracks          0.754315\n",
              "repetitiveness_index  0.956141"
            ]
          },
          "metadata": {
            "tags": []
          },
          "execution_count": 31
        }
      ]
    },
    {
      "cell_type": "code",
      "metadata": {
        "colab": {
          "base_uri": "https://localhost:8080/",
          "height": 421
        },
        "id": "OVN_SM1AxhYY",
        "outputId": "09f6d6f3-9966-4034-e7eb-f3910febf9ec"
      },
      "source": [
        "precovid_at_risk_dynamic_aur = precovid_user_autocorr[precovid_user_autocorr['K-10']>29]\n",
        "durcovid_at_risk_dynamic_aur = durcovid_user_autocorr[durcovid_user_autocorr['K-10']>29]\n",
        "all_pvalues = []\n",
        "for f in feature_columns:\n",
        "    _,p = stats.wilcoxon(precovid_at_risk_dynamic_aur[f],durcovid_at_risk_dynamic_aur[f])\n",
        "    all_pvalues.append(p)\n",
        "pd.DataFrame(all_pvalues,columns=['p_value']\n",
        "             ,index=feature_columns)"
      ],
      "execution_count": 20,
      "outputs": [
        {
          "output_type": "execute_result",
          "data": {
            "text/html": [
              "<div>\n",
              "<style scoped>\n",
              "    .dataframe tbody tr th:only-of-type {\n",
              "        vertical-align: middle;\n",
              "    }\n",
              "\n",
              "    .dataframe tbody tr th {\n",
              "        vertical-align: top;\n",
              "    }\n",
              "\n",
              "    .dataframe thead th {\n",
              "        text-align: right;\n",
              "    }\n",
              "</style>\n",
              "<table border=\"1\" class=\"dataframe\">\n",
              "  <thead>\n",
              "    <tr style=\"text-align: right;\">\n",
              "      <th></th>\n",
              "      <th>p_value</th>\n",
              "    </tr>\n",
              "  </thead>\n",
              "  <tbody>\n",
              "    <tr>\n",
              "      <th>danceability</th>\n",
              "      <td>0.087243</td>\n",
              "    </tr>\n",
              "    <tr>\n",
              "      <th>loudness</th>\n",
              "      <td>0.671379</td>\n",
              "    </tr>\n",
              "    <tr>\n",
              "      <th>mode</th>\n",
              "      <td>0.677117</td>\n",
              "    </tr>\n",
              "    <tr>\n",
              "      <th>speechiness</th>\n",
              "      <td>0.162757</td>\n",
              "    </tr>\n",
              "    <tr>\n",
              "      <th>acousticness</th>\n",
              "      <td>0.271365</td>\n",
              "    </tr>\n",
              "    <tr>\n",
              "      <th>instrumentalness</th>\n",
              "      <td>0.216419</td>\n",
              "    </tr>\n",
              "    <tr>\n",
              "      <th>liveness</th>\n",
              "      <td>0.947798</td>\n",
              "    </tr>\n",
              "    <tr>\n",
              "      <th>tempo</th>\n",
              "      <td>0.866892</td>\n",
              "    </tr>\n",
              "    <tr>\n",
              "      <th>QPS_Q1</th>\n",
              "      <td>0.120426</td>\n",
              "    </tr>\n",
              "    <tr>\n",
              "      <th>QPS_Q2</th>\n",
              "      <td>0.763285</td>\n",
              "    </tr>\n",
              "    <tr>\n",
              "      <th>QPS_Q3</th>\n",
              "      <td>0.010043</td>\n",
              "    </tr>\n",
              "    <tr>\n",
              "      <th>QPS_Q4</th>\n",
              "      <td>0.010351</td>\n",
              "    </tr>\n",
              "  </tbody>\n",
              "</table>\n",
              "</div>"
            ],
            "text/plain": [
              "                   p_value\n",
              "danceability      0.087243\n",
              "loudness          0.671379\n",
              "mode              0.677117\n",
              "speechiness       0.162757\n",
              "acousticness      0.271365\n",
              "instrumentalness  0.216419\n",
              "liveness          0.947798\n",
              "tempo             0.866892\n",
              "QPS_Q1            0.120426\n",
              "QPS_Q2            0.763285\n",
              "QPS_Q3            0.010043\n",
              "QPS_Q4            0.010351"
            ]
          },
          "metadata": {
            "tags": []
          },
          "execution_count": 20
        }
      ]
    },
    {
      "cell_type": "code",
      "metadata": {
        "colab": {
          "base_uri": "https://localhost:8080/",
          "height": 421
        },
        "id": "YHJYZ8kmyK3Y",
        "outputId": "d16cb12d-349a-45ba-fa12-00dc0258806f"
      },
      "source": [
        "precovid_at_risk_dynamic = precovid_user_variability[precovid_user_variability['K-10']>29]\n",
        "durcovid_at_risk_dynamic = durcovid_user_variability[durcovid_user_variability['K-10']>29]\n",
        "all_pvalues = []\n",
        "for f in feature_columns:\n",
        "    _,p = stats.wilcoxon(precovid_at_risk_dynamic[f],durcovid_at_risk_dynamic[f])\n",
        "    all_pvalues.append(p)\n",
        "pd.DataFrame(all_pvalues,columns=['p_value']\n",
        "             ,index=feature_columns)"
      ],
      "execution_count": 21,
      "outputs": [
        {
          "output_type": "execute_result",
          "data": {
            "text/html": [
              "<div>\n",
              "<style scoped>\n",
              "    .dataframe tbody tr th:only-of-type {\n",
              "        vertical-align: middle;\n",
              "    }\n",
              "\n",
              "    .dataframe tbody tr th {\n",
              "        vertical-align: top;\n",
              "    }\n",
              "\n",
              "    .dataframe thead th {\n",
              "        text-align: right;\n",
              "    }\n",
              "</style>\n",
              "<table border=\"1\" class=\"dataframe\">\n",
              "  <thead>\n",
              "    <tr style=\"text-align: right;\">\n",
              "      <th></th>\n",
              "      <th>p_value</th>\n",
              "    </tr>\n",
              "  </thead>\n",
              "  <tbody>\n",
              "    <tr>\n",
              "      <th>danceability</th>\n",
              "      <td>0.931130</td>\n",
              "    </tr>\n",
              "    <tr>\n",
              "      <th>loudness</th>\n",
              "      <td>0.624326</td>\n",
              "    </tr>\n",
              "    <tr>\n",
              "      <th>mode</th>\n",
              "      <td>0.180818</td>\n",
              "    </tr>\n",
              "    <tr>\n",
              "      <th>speechiness</th>\n",
              "      <td>0.680953</td>\n",
              "    </tr>\n",
              "    <tr>\n",
              "      <th>acousticness</th>\n",
              "      <td>0.639229</td>\n",
              "    </tr>\n",
              "    <tr>\n",
              "      <th>instrumentalness</th>\n",
              "      <td>0.555697</td>\n",
              "    </tr>\n",
              "    <tr>\n",
              "      <th>liveness</th>\n",
              "      <td>0.113099</td>\n",
              "    </tr>\n",
              "    <tr>\n",
              "      <th>tempo</th>\n",
              "      <td>0.221325</td>\n",
              "    </tr>\n",
              "    <tr>\n",
              "      <th>QPS_Q1</th>\n",
              "      <td>0.189502</td>\n",
              "    </tr>\n",
              "    <tr>\n",
              "      <th>QPS_Q2</th>\n",
              "      <td>0.552189</td>\n",
              "    </tr>\n",
              "    <tr>\n",
              "      <th>QPS_Q3</th>\n",
              "      <td>0.557454</td>\n",
              "    </tr>\n",
              "    <tr>\n",
              "      <th>QPS_Q4</th>\n",
              "      <td>0.552189</td>\n",
              "    </tr>\n",
              "  </tbody>\n",
              "</table>\n",
              "</div>"
            ],
            "text/plain": [
              "                   p_value\n",
              "danceability      0.931130\n",
              "loudness          0.624326\n",
              "mode              0.180818\n",
              "speechiness       0.680953\n",
              "acousticness      0.639229\n",
              "instrumentalness  0.555697\n",
              "liveness          0.113099\n",
              "tempo             0.221325\n",
              "QPS_Q1            0.189502\n",
              "QPS_Q2            0.552189\n",
              "QPS_Q3            0.557454\n",
              "QPS_Q4            0.552189"
            ]
          },
          "metadata": {
            "tags": []
          },
          "execution_count": 21
        }
      ]
    },
    {
      "cell_type": "markdown",
      "metadata": {
        "id": "pWanPkGAiD2b"
      },
      "source": [
        "#### For No Risk Users"
      ]
    },
    {
      "cell_type": "code",
      "metadata": {
        "colab": {
          "base_uri": "https://localhost:8080/",
          "height": 514
        },
        "id": "rYmQxP3GzFoq",
        "outputId": "0b95b32c-c827-4aab-96e7-82ee3409ca7f"
      },
      "source": [
        "#No Risk \n",
        "precovid_no_risk_features = precovid_all_user_summary[precovid_all_user_summary['K10']<20]\n",
        "durcovid_no_risk_features = durcovid_all_user_summary[durcovid_all_user_summary['K10']<20]\n",
        "all_pvalues = []\n",
        "for f in feature_columns_with_ri:\n",
        "    _,p = stats.wilcoxon(precovid_no_risk_features[f],durcovid_no_risk_features[f])\n",
        "    all_pvalues.append(p)\n",
        "pd.DataFrame(all_pvalues,columns=['p_value']\n",
        "             ,index=feature_columns_with_ri)"
      ],
      "execution_count": 32,
      "outputs": [
        {
          "output_type": "execute_result",
          "data": {
            "text/html": [
              "<div>\n",
              "<style scoped>\n",
              "    .dataframe tbody tr th:only-of-type {\n",
              "        vertical-align: middle;\n",
              "    }\n",
              "\n",
              "    .dataframe tbody tr th {\n",
              "        vertical-align: top;\n",
              "    }\n",
              "\n",
              "    .dataframe thead th {\n",
              "        text-align: right;\n",
              "    }\n",
              "</style>\n",
              "<table border=\"1\" class=\"dataframe\">\n",
              "  <thead>\n",
              "    <tr style=\"text-align: right;\">\n",
              "      <th></th>\n",
              "      <th>p_value</th>\n",
              "    </tr>\n",
              "  </thead>\n",
              "  <tbody>\n",
              "    <tr>\n",
              "      <th>danceability</th>\n",
              "      <td>0.346514</td>\n",
              "    </tr>\n",
              "    <tr>\n",
              "      <th>loudness</th>\n",
              "      <td>0.184015</td>\n",
              "    </tr>\n",
              "    <tr>\n",
              "      <th>mode</th>\n",
              "      <td>0.693387</td>\n",
              "    </tr>\n",
              "    <tr>\n",
              "      <th>speechiness</th>\n",
              "      <td>0.863895</td>\n",
              "    </tr>\n",
              "    <tr>\n",
              "      <th>acousticness</th>\n",
              "      <td>0.469794</td>\n",
              "    </tr>\n",
              "    <tr>\n",
              "      <th>instrumentalness</th>\n",
              "      <td>0.875140</td>\n",
              "    </tr>\n",
              "    <tr>\n",
              "      <th>liveness</th>\n",
              "      <td>0.851557</td>\n",
              "    </tr>\n",
              "    <tr>\n",
              "      <th>tempo</th>\n",
              "      <td>0.672418</td>\n",
              "    </tr>\n",
              "    <tr>\n",
              "      <th>QPS_Q1</th>\n",
              "      <td>0.885282</td>\n",
              "    </tr>\n",
              "    <tr>\n",
              "      <th>QPS_Q2</th>\n",
              "      <td>0.416327</td>\n",
              "    </tr>\n",
              "    <tr>\n",
              "      <th>QPS_Q3</th>\n",
              "      <td>0.675547</td>\n",
              "    </tr>\n",
              "    <tr>\n",
              "      <th>QPS_Q4</th>\n",
              "      <td>0.078183</td>\n",
              "    </tr>\n",
              "    <tr>\n",
              "      <th>total_session</th>\n",
              "      <td>0.355835</td>\n",
              "    </tr>\n",
              "    <tr>\n",
              "      <th>total_tracks</th>\n",
              "      <td>0.949314</td>\n",
              "    </tr>\n",
              "    <tr>\n",
              "      <th>repetitiveness_index</th>\n",
              "      <td>0.758748</td>\n",
              "    </tr>\n",
              "  </tbody>\n",
              "</table>\n",
              "</div>"
            ],
            "text/plain": [
              "                       p_value\n",
              "danceability          0.346514\n",
              "loudness              0.184015\n",
              "mode                  0.693387\n",
              "speechiness           0.863895\n",
              "acousticness          0.469794\n",
              "instrumentalness      0.875140\n",
              "liveness              0.851557\n",
              "tempo                 0.672418\n",
              "QPS_Q1                0.885282\n",
              "QPS_Q2                0.416327\n",
              "QPS_Q3                0.675547\n",
              "QPS_Q4                0.078183\n",
              "total_session         0.355835\n",
              "total_tracks          0.949314\n",
              "repetitiveness_index  0.758748"
            ]
          },
          "metadata": {
            "tags": []
          },
          "execution_count": 32
        }
      ]
    },
    {
      "cell_type": "code",
      "metadata": {
        "colab": {
          "base_uri": "https://localhost:8080/",
          "height": 421
        },
        "id": "Mx88Dm-czFos",
        "outputId": "3176f379-3f4b-4495-dbf8-41d1e02eb2ea"
      },
      "source": [
        "precovid_no_risk_dynamic_aur = precovid_user_autocorr[precovid_user_autocorr['K-10']<20]\n",
        "durcovid_no_risk_dynamic_aur = durcovid_user_autocorr[durcovid_user_autocorr['K-10']<20]\n",
        "all_pvalues = []\n",
        "for f in feature_columns:\n",
        "    _,p = stats.wilcoxon(precovid_no_risk_dynamic_aur[f],durcovid_no_risk_dynamic_aur[f])\n",
        "    all_pvalues.append(p)\n",
        "pd.DataFrame(all_pvalues,columns=['p_value']\n",
        "             ,index=feature_columns)"
      ],
      "execution_count": 23,
      "outputs": [
        {
          "output_type": "execute_result",
          "data": {
            "text/html": [
              "<div>\n",
              "<style scoped>\n",
              "    .dataframe tbody tr th:only-of-type {\n",
              "        vertical-align: middle;\n",
              "    }\n",
              "\n",
              "    .dataframe tbody tr th {\n",
              "        vertical-align: top;\n",
              "    }\n",
              "\n",
              "    .dataframe thead th {\n",
              "        text-align: right;\n",
              "    }\n",
              "</style>\n",
              "<table border=\"1\" class=\"dataframe\">\n",
              "  <thead>\n",
              "    <tr style=\"text-align: right;\">\n",
              "      <th></th>\n",
              "      <th>p_value</th>\n",
              "    </tr>\n",
              "  </thead>\n",
              "  <tbody>\n",
              "    <tr>\n",
              "      <th>danceability</th>\n",
              "      <td>0.289173</td>\n",
              "    </tr>\n",
              "    <tr>\n",
              "      <th>loudness</th>\n",
              "      <td>0.469794</td>\n",
              "    </tr>\n",
              "    <tr>\n",
              "      <th>mode</th>\n",
              "      <td>0.053444</td>\n",
              "    </tr>\n",
              "    <tr>\n",
              "      <th>speechiness</th>\n",
              "      <td>0.242029</td>\n",
              "    </tr>\n",
              "    <tr>\n",
              "      <th>acousticness</th>\n",
              "      <td>0.102519</td>\n",
              "    </tr>\n",
              "    <tr>\n",
              "      <th>instrumentalness</th>\n",
              "      <td>0.263351</td>\n",
              "    </tr>\n",
              "    <tr>\n",
              "      <th>liveness</th>\n",
              "      <td>0.752233</td>\n",
              "    </tr>\n",
              "    <tr>\n",
              "      <th>tempo</th>\n",
              "      <td>0.813665</td>\n",
              "    </tr>\n",
              "    <tr>\n",
              "      <th>QPS_Q1</th>\n",
              "      <td>0.280807</td>\n",
              "    </tr>\n",
              "    <tr>\n",
              "      <th>QPS_Q2</th>\n",
              "      <td>0.277634</td>\n",
              "    </tr>\n",
              "    <tr>\n",
              "      <th>QPS_Q3</th>\n",
              "      <td>0.776204</td>\n",
              "    </tr>\n",
              "    <tr>\n",
              "      <th>QPS_Q4</th>\n",
              "      <td>0.550435</td>\n",
              "    </tr>\n",
              "  </tbody>\n",
              "</table>\n",
              "</div>"
            ],
            "text/plain": [
              "                   p_value\n",
              "danceability      0.289173\n",
              "loudness          0.469794\n",
              "mode              0.053444\n",
              "speechiness       0.242029\n",
              "acousticness      0.102519\n",
              "instrumentalness  0.263351\n",
              "liveness          0.752233\n",
              "tempo             0.813665\n",
              "QPS_Q1            0.280807\n",
              "QPS_Q2            0.277634\n",
              "QPS_Q3            0.776204\n",
              "QPS_Q4            0.550435"
            ]
          },
          "metadata": {
            "tags": []
          },
          "execution_count": 23
        }
      ]
    },
    {
      "cell_type": "code",
      "metadata": {
        "colab": {
          "base_uri": "https://localhost:8080/",
          "height": 421
        },
        "id": "Jyojn1LXzFot",
        "outputId": "e4a41db7-886e-46a2-a716-ed318356fb86"
      },
      "source": [
        "precovid_no_risk_dynamic = precovid_user_variability[precovid_user_variability['K-10']<20]\n",
        "durcovid_no_risk_dynamic = durcovid_user_variability[durcovid_user_variability['K-10']<20]\n",
        "all_pvalues = []\n",
        "for f in feature_columns:\n",
        "    _,p = stats.wilcoxon(precovid_no_risk_dynamic[f],durcovid_no_risk_dynamic[f])\n",
        "    all_pvalues.append(p)\n",
        "pd.DataFrame(all_pvalues,columns=['p_value']\n",
        "             ,index=feature_columns)"
      ],
      "execution_count": 24,
      "outputs": [
        {
          "output_type": "execute_result",
          "data": {
            "text/html": [
              "<div>\n",
              "<style scoped>\n",
              "    .dataframe tbody tr th:only-of-type {\n",
              "        vertical-align: middle;\n",
              "    }\n",
              "\n",
              "    .dataframe tbody tr th {\n",
              "        vertical-align: top;\n",
              "    }\n",
              "\n",
              "    .dataframe thead th {\n",
              "        text-align: right;\n",
              "    }\n",
              "</style>\n",
              "<table border=\"1\" class=\"dataframe\">\n",
              "  <thead>\n",
              "    <tr style=\"text-align: right;\">\n",
              "      <th></th>\n",
              "      <th>p_value</th>\n",
              "    </tr>\n",
              "  </thead>\n",
              "  <tbody>\n",
              "    <tr>\n",
              "      <th>danceability</th>\n",
              "      <td>0.327115</td>\n",
              "    </tr>\n",
              "    <tr>\n",
              "      <th>loudness</th>\n",
              "      <td>0.311157</td>\n",
              "    </tr>\n",
              "    <tr>\n",
              "      <th>mode</th>\n",
              "      <td>0.220333</td>\n",
              "    </tr>\n",
              "    <tr>\n",
              "      <th>speechiness</th>\n",
              "      <td>0.944197</td>\n",
              "    </tr>\n",
              "    <tr>\n",
              "      <th>acousticness</th>\n",
              "      <td>0.173855</td>\n",
              "    </tr>\n",
              "    <tr>\n",
              "      <th>instrumentalness</th>\n",
              "      <td>0.637354</td>\n",
              "    </tr>\n",
              "    <tr>\n",
              "      <th>liveness</th>\n",
              "      <td>0.217123</td>\n",
              "    </tr>\n",
              "    <tr>\n",
              "      <th>tempo</th>\n",
              "      <td>0.309114</td>\n",
              "    </tr>\n",
              "    <tr>\n",
              "      <th>QPS_Q1</th>\n",
              "      <td>0.460194</td>\n",
              "    </tr>\n",
              "    <tr>\n",
              "      <th>QPS_Q2</th>\n",
              "      <td>0.193627</td>\n",
              "    </tr>\n",
              "    <tr>\n",
              "      <th>QPS_Q3</th>\n",
              "      <td>0.226855</td>\n",
              "    </tr>\n",
              "    <tr>\n",
              "      <th>QPS_Q4</th>\n",
              "      <td>0.104031</td>\n",
              "    </tr>\n",
              "  </tbody>\n",
              "</table>\n",
              "</div>"
            ],
            "text/plain": [
              "                   p_value\n",
              "danceability      0.327115\n",
              "loudness          0.311157\n",
              "mode              0.220333\n",
              "speechiness       0.944197\n",
              "acousticness      0.173855\n",
              "instrumentalness  0.637354\n",
              "liveness          0.217123\n",
              "tempo             0.309114\n",
              "QPS_Q1            0.460194\n",
              "QPS_Q2            0.193627\n",
              "QPS_Q3            0.226855\n",
              "QPS_Q4            0.104031"
            ]
          },
          "metadata": {
            "tags": []
          },
          "execution_count": 24
        }
      ]
    },
    {
      "cell_type": "markdown",
      "metadata": {
        "id": "p1GLKlrviVGU"
      },
      "source": [
        "#### For All Users"
      ]
    },
    {
      "cell_type": "code",
      "metadata": {
        "colab": {
          "base_uri": "https://localhost:8080/",
          "height": 514
        },
        "id": "5z7OqpWjz9Dp",
        "outputId": "cb38fb1c-9699-43ec-80ce-19703c7fd961"
      },
      "source": [
        "#All \n",
        "all_pvalues = []\n",
        "for f in feature_columns_with_ri:\n",
        "    _,p = stats.wilcoxon(precovid_all_user_summary[f],durcovid_all_user_summary[f])\n",
        "    all_pvalues.append(p)\n",
        "pd.DataFrame(all_pvalues,columns=['p_value']\n",
        "             ,index=feature_columns_with_ri)"
      ],
      "execution_count": 33,
      "outputs": [
        {
          "output_type": "execute_result",
          "data": {
            "text/html": [
              "<div>\n",
              "<style scoped>\n",
              "    .dataframe tbody tr th:only-of-type {\n",
              "        vertical-align: middle;\n",
              "    }\n",
              "\n",
              "    .dataframe tbody tr th {\n",
              "        vertical-align: top;\n",
              "    }\n",
              "\n",
              "    .dataframe thead th {\n",
              "        text-align: right;\n",
              "    }\n",
              "</style>\n",
              "<table border=\"1\" class=\"dataframe\">\n",
              "  <thead>\n",
              "    <tr style=\"text-align: right;\">\n",
              "      <th></th>\n",
              "      <th>p_value</th>\n",
              "    </tr>\n",
              "  </thead>\n",
              "  <tbody>\n",
              "    <tr>\n",
              "      <th>danceability</th>\n",
              "      <td>0.562484</td>\n",
              "    </tr>\n",
              "    <tr>\n",
              "      <th>loudness</th>\n",
              "      <td>0.087097</td>\n",
              "    </tr>\n",
              "    <tr>\n",
              "      <th>mode</th>\n",
              "      <td>0.560519</td>\n",
              "    </tr>\n",
              "    <tr>\n",
              "      <th>speechiness</th>\n",
              "      <td>0.825086</td>\n",
              "    </tr>\n",
              "    <tr>\n",
              "      <th>acousticness</th>\n",
              "      <td>0.295511</td>\n",
              "    </tr>\n",
              "    <tr>\n",
              "      <th>instrumentalness</th>\n",
              "      <td>0.572356</td>\n",
              "    </tr>\n",
              "    <tr>\n",
              "      <th>liveness</th>\n",
              "      <td>0.756515</td>\n",
              "    </tr>\n",
              "    <tr>\n",
              "      <th>tempo</th>\n",
              "      <td>0.685046</td>\n",
              "    </tr>\n",
              "    <tr>\n",
              "      <th>QPS_Q1</th>\n",
              "      <td>0.313348</td>\n",
              "    </tr>\n",
              "    <tr>\n",
              "      <th>QPS_Q2</th>\n",
              "      <td>0.100736</td>\n",
              "    </tr>\n",
              "    <tr>\n",
              "      <th>QPS_Q3</th>\n",
              "      <td>0.835691</td>\n",
              "    </tr>\n",
              "    <tr>\n",
              "      <th>QPS_Q4</th>\n",
              "      <td>0.023061</td>\n",
              "    </tr>\n",
              "    <tr>\n",
              "      <th>total_session</th>\n",
              "      <td>0.122769</td>\n",
              "    </tr>\n",
              "    <tr>\n",
              "      <th>total_tracks</th>\n",
              "      <td>0.947717</td>\n",
              "    </tr>\n",
              "    <tr>\n",
              "      <th>repetitiveness_index</th>\n",
              "      <td>0.708514</td>\n",
              "    </tr>\n",
              "  </tbody>\n",
              "</table>\n",
              "</div>"
            ],
            "text/plain": [
              "                       p_value\n",
              "danceability          0.562484\n",
              "loudness              0.087097\n",
              "mode                  0.560519\n",
              "speechiness           0.825086\n",
              "acousticness          0.295511\n",
              "instrumentalness      0.572356\n",
              "liveness              0.756515\n",
              "tempo                 0.685046\n",
              "QPS_Q1                0.313348\n",
              "QPS_Q2                0.100736\n",
              "QPS_Q3                0.835691\n",
              "QPS_Q4                0.023061\n",
              "total_session         0.122769\n",
              "total_tracks          0.947717\n",
              "repetitiveness_index  0.708514"
            ]
          },
          "metadata": {
            "tags": []
          },
          "execution_count": 33
        }
      ]
    },
    {
      "cell_type": "code",
      "metadata": {
        "colab": {
          "base_uri": "https://localhost:8080/",
          "height": 421
        },
        "id": "xqHrhqh3z9Dq",
        "outputId": "9ad78244-f663-4a13-bfeb-b323b87e0096"
      },
      "source": [
        "all_pvalues = []\n",
        "for f in feature_columns:\n",
        "    _,p = stats.wilcoxon(precovid_user_autocorr[f],durcovid_user_autocorr[f])\n",
        "    all_pvalues.append(p)\n",
        "pd.DataFrame(all_pvalues,columns=['p_value']\n",
        "             ,index=feature_columns)"
      ],
      "execution_count": 27,
      "outputs": [
        {
          "output_type": "execute_result",
          "data": {
            "text/html": [
              "<div>\n",
              "<style scoped>\n",
              "    .dataframe tbody tr th:only-of-type {\n",
              "        vertical-align: middle;\n",
              "    }\n",
              "\n",
              "    .dataframe tbody tr th {\n",
              "        vertical-align: top;\n",
              "    }\n",
              "\n",
              "    .dataframe thead th {\n",
              "        text-align: right;\n",
              "    }\n",
              "</style>\n",
              "<table border=\"1\" class=\"dataframe\">\n",
              "  <thead>\n",
              "    <tr style=\"text-align: right;\">\n",
              "      <th></th>\n",
              "      <th>p_value</th>\n",
              "    </tr>\n",
              "  </thead>\n",
              "  <tbody>\n",
              "    <tr>\n",
              "      <th>danceability</th>\n",
              "      <td>0.063409</td>\n",
              "    </tr>\n",
              "    <tr>\n",
              "      <th>loudness</th>\n",
              "      <td>0.702980</td>\n",
              "    </tr>\n",
              "    <tr>\n",
              "      <th>mode</th>\n",
              "      <td>0.327062</td>\n",
              "    </tr>\n",
              "    <tr>\n",
              "      <th>speechiness</th>\n",
              "      <td>0.066132</td>\n",
              "    </tr>\n",
              "    <tr>\n",
              "      <th>acousticness</th>\n",
              "      <td>0.248391</td>\n",
              "    </tr>\n",
              "    <tr>\n",
              "      <th>instrumentalness</th>\n",
              "      <td>0.434863</td>\n",
              "    </tr>\n",
              "    <tr>\n",
              "      <th>liveness</th>\n",
              "      <td>0.101613</td>\n",
              "    </tr>\n",
              "    <tr>\n",
              "      <th>tempo</th>\n",
              "      <td>0.673423</td>\n",
              "    </tr>\n",
              "    <tr>\n",
              "      <th>QPS_Q1</th>\n",
              "      <td>0.040845</td>\n",
              "    </tr>\n",
              "    <tr>\n",
              "      <th>QPS_Q2</th>\n",
              "      <td>0.262601</td>\n",
              "    </tr>\n",
              "    <tr>\n",
              "      <th>QPS_Q3</th>\n",
              "      <td>0.186382</td>\n",
              "    </tr>\n",
              "    <tr>\n",
              "      <th>QPS_Q4</th>\n",
              "      <td>0.167297</td>\n",
              "    </tr>\n",
              "  </tbody>\n",
              "</table>\n",
              "</div>"
            ],
            "text/plain": [
              "                   p_value\n",
              "danceability      0.063409\n",
              "loudness          0.702980\n",
              "mode              0.327062\n",
              "speechiness       0.066132\n",
              "acousticness      0.248391\n",
              "instrumentalness  0.434863\n",
              "liveness          0.101613\n",
              "tempo             0.673423\n",
              "QPS_Q1            0.040845\n",
              "QPS_Q2            0.262601\n",
              "QPS_Q3            0.186382\n",
              "QPS_Q4            0.167297"
            ]
          },
          "metadata": {
            "tags": []
          },
          "execution_count": 27
        }
      ]
    },
    {
      "cell_type": "code",
      "metadata": {
        "colab": {
          "base_uri": "https://localhost:8080/",
          "height": 421
        },
        "id": "HGK9Tz8Zz9Dq",
        "outputId": "e8a86956-8948-4afd-9d96-dc2faa04203d"
      },
      "source": [
        "all_pvalues = []\n",
        "for f in feature_columns:\n",
        "    _,p = stats.wilcoxon(precovid_user_variability[f],durcovid_user_variability[f])\n",
        "    all_pvalues.append(p)\n",
        "pd.DataFrame(all_pvalues,columns=['p_value']\n",
        "             ,index=feature_columns)"
      ],
      "execution_count": 28,
      "outputs": [
        {
          "output_type": "execute_result",
          "data": {
            "text/html": [
              "<div>\n",
              "<style scoped>\n",
              "    .dataframe tbody tr th:only-of-type {\n",
              "        vertical-align: middle;\n",
              "    }\n",
              "\n",
              "    .dataframe tbody tr th {\n",
              "        vertical-align: top;\n",
              "    }\n",
              "\n",
              "    .dataframe thead th {\n",
              "        text-align: right;\n",
              "    }\n",
              "</style>\n",
              "<table border=\"1\" class=\"dataframe\">\n",
              "  <thead>\n",
              "    <tr style=\"text-align: right;\">\n",
              "      <th></th>\n",
              "      <th>p_value</th>\n",
              "    </tr>\n",
              "  </thead>\n",
              "  <tbody>\n",
              "    <tr>\n",
              "      <th>danceability</th>\n",
              "      <td>0.229290</td>\n",
              "    </tr>\n",
              "    <tr>\n",
              "      <th>loudness</th>\n",
              "      <td>0.327382</td>\n",
              "    </tr>\n",
              "    <tr>\n",
              "      <th>mode</th>\n",
              "      <td>0.100133</td>\n",
              "    </tr>\n",
              "    <tr>\n",
              "      <th>speechiness</th>\n",
              "      <td>0.879670</td>\n",
              "    </tr>\n",
              "    <tr>\n",
              "      <th>acousticness</th>\n",
              "      <td>0.062720</td>\n",
              "    </tr>\n",
              "    <tr>\n",
              "      <th>instrumentalness</th>\n",
              "      <td>0.243384</td>\n",
              "    </tr>\n",
              "    <tr>\n",
              "      <th>liveness</th>\n",
              "      <td>0.018282</td>\n",
              "    </tr>\n",
              "    <tr>\n",
              "      <th>tempo</th>\n",
              "      <td>0.141126</td>\n",
              "    </tr>\n",
              "    <tr>\n",
              "      <th>QPS_Q1</th>\n",
              "      <td>0.083395</td>\n",
              "    </tr>\n",
              "    <tr>\n",
              "      <th>QPS_Q2</th>\n",
              "      <td>0.234219</td>\n",
              "    </tr>\n",
              "    <tr>\n",
              "      <th>QPS_Q3</th>\n",
              "      <td>0.106297</td>\n",
              "    </tr>\n",
              "    <tr>\n",
              "      <th>QPS_Q4</th>\n",
              "      <td>0.005871</td>\n",
              "    </tr>\n",
              "  </tbody>\n",
              "</table>\n",
              "</div>"
            ],
            "text/plain": [
              "                   p_value\n",
              "danceability      0.229290\n",
              "loudness          0.327382\n",
              "mode              0.100133\n",
              "speechiness       0.879670\n",
              "acousticness      0.062720\n",
              "instrumentalness  0.243384\n",
              "liveness          0.018282\n",
              "tempo             0.141126\n",
              "QPS_Q1            0.083395\n",
              "QPS_Q2            0.234219\n",
              "QPS_Q3            0.106297\n",
              "QPS_Q4            0.005871"
            ]
          },
          "metadata": {
            "tags": []
          },
          "execution_count": 28
        }
      ]
    },
    {
      "cell_type": "markdown",
      "metadata": {
        "id": "uId6haud4_NA"
      },
      "source": [
        "### Applying Bootstrapping with 1000 iterations to account for Type I error and ensure that the observed differences are not due to chance."
      ]
    },
    {
      "cell_type": "code",
      "metadata": {
        "id": "_vW4bPSeAXfZ"
      },
      "source": [
        "def get_wilcoxon(X):\n",
        "  x, y = X[0], X[1]\n",
        "  return stats.wilcoxon(x,y,zero_method='zsplit')[1]"
      ],
      "execution_count": 52,
      "outputs": []
    },
    {
      "cell_type": "code",
      "metadata": {
        "collapsed": true,
        "id": "DnFzsvnKLWFx"
      },
      "source": [
        "all_pvalues = []\n",
        "for f in feature_columns:\n",
        "  x=np.array([precovid_at_risk_features[f],durcovid_at_risk_features[f]])\n",
        "  original, std_err, ci_bounds = bootstrap(x,num_rounds=1000, func=get_wilcoxon,ci=0.95,\n",
        "                                         seed=123)\n",
        "  all_pvalues.append([original,ci_bounds[0],ci_bounds[1]])\n",
        "  #print(': %.2f, SE: +/- %.2f, CI95: [%.2f, %.2f]' % (original, std_err, ci_bounds[0],ci_bounds[1]))"
      ],
      "execution_count": 53,
      "outputs": []
    },
    {
      "cell_type": "code",
      "metadata": {
        "colab": {
          "base_uri": "https://localhost:8080/",
          "height": 421
        },
        "id": "-vFL_-GhFCpq",
        "outputId": "f3896186-e090-4b5e-c896-d4f314a7cc56"
      },
      "source": [
        "pd.DataFrame(all_pvalues,columns=['p_value','lower_ci_bounds','upper_ci_bounds']\n",
        "             ,index=feature_columns)"
      ],
      "execution_count": 54,
      "outputs": [
        {
          "output_type": "execute_result",
          "data": {
            "text/html": [
              "<div>\n",
              "<style scoped>\n",
              "    .dataframe tbody tr th:only-of-type {\n",
              "        vertical-align: middle;\n",
              "    }\n",
              "\n",
              "    .dataframe tbody tr th {\n",
              "        vertical-align: top;\n",
              "    }\n",
              "\n",
              "    .dataframe thead th {\n",
              "        text-align: right;\n",
              "    }\n",
              "</style>\n",
              "<table border=\"1\" class=\"dataframe\">\n",
              "  <thead>\n",
              "    <tr style=\"text-align: right;\">\n",
              "      <th></th>\n",
              "      <th>p_value</th>\n",
              "      <th>lower_ci_bounds</th>\n",
              "      <th>upper_ci_bounds</th>\n",
              "    </tr>\n",
              "  </thead>\n",
              "  <tbody>\n",
              "    <tr>\n",
              "      <th>danceability</th>\n",
              "      <td>0.441331</td>\n",
              "      <td>0.441331</td>\n",
              "      <td>1.0</td>\n",
              "    </tr>\n",
              "    <tr>\n",
              "      <th>loudness</th>\n",
              "      <td>0.616931</td>\n",
              "      <td>0.616931</td>\n",
              "      <td>1.0</td>\n",
              "    </tr>\n",
              "    <tr>\n",
              "      <th>mode</th>\n",
              "      <td>0.731544</td>\n",
              "      <td>0.731544</td>\n",
              "      <td>1.0</td>\n",
              "    </tr>\n",
              "    <tr>\n",
              "      <th>speechiness</th>\n",
              "      <td>0.553941</td>\n",
              "      <td>0.553941</td>\n",
              "      <td>1.0</td>\n",
              "    </tr>\n",
              "    <tr>\n",
              "      <th>acousticness</th>\n",
              "      <td>0.733515</td>\n",
              "      <td>0.733515</td>\n",
              "      <td>1.0</td>\n",
              "    </tr>\n",
              "    <tr>\n",
              "      <th>instrumentalness</th>\n",
              "      <td>0.842236</td>\n",
              "      <td>0.842236</td>\n",
              "      <td>1.0</td>\n",
              "    </tr>\n",
              "    <tr>\n",
              "      <th>liveness</th>\n",
              "      <td>0.834050</td>\n",
              "      <td>0.834050</td>\n",
              "      <td>1.0</td>\n",
              "    </tr>\n",
              "    <tr>\n",
              "      <th>tempo</th>\n",
              "      <td>0.977018</td>\n",
              "      <td>0.977018</td>\n",
              "      <td>1.0</td>\n",
              "    </tr>\n",
              "    <tr>\n",
              "      <th>QPS_Q1</th>\n",
              "      <td>0.402009</td>\n",
              "      <td>0.402009</td>\n",
              "      <td>1.0</td>\n",
              "    </tr>\n",
              "    <tr>\n",
              "      <th>QPS_Q2</th>\n",
              "      <td>0.240694</td>\n",
              "      <td>0.240694</td>\n",
              "      <td>1.0</td>\n",
              "    </tr>\n",
              "    <tr>\n",
              "      <th>QPS_Q3</th>\n",
              "      <td>0.663757</td>\n",
              "      <td>0.663757</td>\n",
              "      <td>1.0</td>\n",
              "    </tr>\n",
              "    <tr>\n",
              "      <th>QPS_Q4</th>\n",
              "      <td>0.763285</td>\n",
              "      <td>0.763285</td>\n",
              "      <td>1.0</td>\n",
              "    </tr>\n",
              "  </tbody>\n",
              "</table>\n",
              "</div>"
            ],
            "text/plain": [
              "                   p_value  lower_ci_bounds  upper_ci_bounds\n",
              "danceability      0.441331         0.441331              1.0\n",
              "loudness          0.616931         0.616931              1.0\n",
              "mode              0.731544         0.731544              1.0\n",
              "speechiness       0.553941         0.553941              1.0\n",
              "acousticness      0.733515         0.733515              1.0\n",
              "instrumentalness  0.842236         0.842236              1.0\n",
              "liveness          0.834050         0.834050              1.0\n",
              "tempo             0.977018         0.977018              1.0\n",
              "QPS_Q1            0.402009         0.402009              1.0\n",
              "QPS_Q2            0.240694         0.240694              1.0\n",
              "QPS_Q3            0.663757         0.663757              1.0\n",
              "QPS_Q4            0.763285         0.763285              1.0"
            ]
          },
          "metadata": {
            "tags": []
          },
          "execution_count": 54
        }
      ]
    },
    {
      "cell_type": "markdown",
      "metadata": {
        "id": "N-MY2Dg7LDsX"
      },
      "source": [
        "### Next we performed Spearman correlations between K10 and all 487 user's number of sessions, total playcount, and RI. "
      ]
    },
    {
      "cell_type": "markdown",
      "metadata": {
        "id": "rECnuCrJi1Vz"
      },
      "source": [
        "#### For before covid-19"
      ]
    },
    {
      "cell_type": "code",
      "metadata": {
        "id": "vzRSxa44LDsY",
        "colab": {
          "base_uri": "https://localhost:8080/"
        },
        "outputId": "f5ea74a2-e428-4d52-f978-d75908c834c6"
      },
      "source": [
        "#all_user_summary \n",
        "stats.spearmanr(precovid_all_user_summary['K10'],precovid_all_user_summary['total_session'])\n"
      ],
      "execution_count": null,
      "outputs": [
        {
          "output_type": "execute_result",
          "data": {
            "text/plain": [
              "SpearmanrResult(correlation=0.18950096985657666, pvalue=2.5607715600535423e-05)"
            ]
          },
          "metadata": {
            "tags": []
          },
          "execution_count": 22
        }
      ]
    },
    {
      "cell_type": "code",
      "metadata": {
        "colab": {
          "base_uri": "https://localhost:8080/"
        },
        "id": "VuXYh6Nybeke",
        "outputId": "4f76a5a9-51cc-4eaf-9b03-ab5f73a09c07"
      },
      "source": [
        "stats.spearmanr(precovid_all_user_summary['K10'],precovid_all_user_summary['total_tracks'])"
      ],
      "execution_count": null,
      "outputs": [
        {
          "output_type": "execute_result",
          "data": {
            "text/plain": [
              "SpearmanrResult(correlation=0.1345226319932954, pvalue=0.0029341082234932703)"
            ]
          },
          "metadata": {
            "tags": []
          },
          "execution_count": 23
        }
      ]
    },
    {
      "cell_type": "code",
      "metadata": {
        "colab": {
          "base_uri": "https://localhost:8080/"
        },
        "id": "R8wCbkQ3bpNa",
        "outputId": "1584af60-6fe6-40df-e7a7-1ea75e958903"
      },
      "source": [
        "stats.spearmanr(precovid_all_user_summary['K10'],precovid_all_user_summary['repetitiveness_index'].values)"
      ],
      "execution_count": null,
      "outputs": [
        {
          "output_type": "execute_result",
          "data": {
            "text/plain": [
              "SpearmanrResult(correlation=0.12472608537669291, pvalue=0.005848409354442624)"
            ]
          },
          "metadata": {
            "tags": []
          },
          "execution_count": 24
        }
      ]
    },
    {
      "cell_type": "markdown",
      "metadata": {
        "id": "YNb8H4hKi-SF"
      },
      "source": [
        "#### For during covid-19"
      ]
    },
    {
      "cell_type": "code",
      "metadata": {
        "colab": {
          "base_uri": "https://localhost:8080/"
        },
        "id": "YIR_k0Z_CA-k",
        "outputId": "cabf02c5-ba90-46de-a13c-e3c92142ce6a"
      },
      "source": [
        "stats.spearmanr(durcovid_all_user_summary['K10'],durcovid_all_user_summary['total_session'])"
      ],
      "execution_count": null,
      "outputs": [
        {
          "output_type": "execute_result",
          "data": {
            "text/plain": [
              "SpearmanrResult(correlation=0.18540600703581933, pvalue=3.8419224544180334e-05)"
            ]
          },
          "metadata": {
            "tags": []
          },
          "execution_count": 25
        }
      ]
    },
    {
      "cell_type": "code",
      "metadata": {
        "colab": {
          "base_uri": "https://localhost:8080/"
        },
        "id": "P_cP2uxwCEqO",
        "outputId": "a39e1b0b-db56-4cdd-ea16-10da6f0fc3d8"
      },
      "source": [
        "stats.spearmanr(durcovid_all_user_summary['K10'],durcovid_all_user_summary['total_tracks'])"
      ],
      "execution_count": null,
      "outputs": [
        {
          "output_type": "execute_result",
          "data": {
            "text/plain": [
              "SpearmanrResult(correlation=0.10219781983053836, pvalue=0.024106861922390928)"
            ]
          },
          "metadata": {
            "tags": []
          },
          "execution_count": 26
        }
      ]
    },
    {
      "cell_type": "code",
      "metadata": {
        "colab": {
          "base_uri": "https://localhost:8080/"
        },
        "id": "iO_BfUjSbj-J",
        "outputId": "c73dc82c-46f2-4693-d553-6e58b4f00351"
      },
      "source": [
        "stats.spearmanr(durcovid_all_user_summary['K10'],durcovid_all_user_summary['repetitiveness_index'])"
      ],
      "execution_count": null,
      "outputs": [
        {
          "output_type": "execute_result",
          "data": {
            "text/plain": [
              "SpearmanrResult(correlation=0.14091175060719285, pvalue=0.0018256065509625868)"
            ]
          },
          "metadata": {
            "tags": []
          },
          "execution_count": 27
        }
      ]
    },
    {
      "cell_type": "markdown",
      "metadata": {
        "id": "KyuwIx5eFXKS"
      },
      "source": [
        "### Calculating Average value of variability and inertia for all features"
      ]
    },
    {
      "cell_type": "code",
      "metadata": {
        "colab": {
          "base_uri": "https://localhost:8080/"
        },
        "id": "BnewKD1uFfQK",
        "outputId": "2082df46-dd4e-4817-c70a-ac80882e2e17"
      },
      "source": [
        "np.sum(precovid_user_variability[feature_columns])/485"
      ],
      "execution_count": null,
      "outputs": [
        {
          "output_type": "execute_result",
          "data": {
            "text/plain": [
              "danceability         0.102313\n",
              "loudness             2.734105\n",
              "mode                 0.235009\n",
              "speechiness          0.049084\n",
              "acousticness         0.171806\n",
              "instrumentalness     0.188558\n",
              "liveness             0.081291\n",
              "tempo               14.262486\n",
              "QPS_Q1               0.241844\n",
              "QPS_Q2               0.254849\n",
              "QPS_Q3               0.216209\n",
              "QPS_Q4               0.099517\n",
              "dtype: float64"
            ]
          },
          "metadata": {
            "tags": []
          },
          "execution_count": 29
        }
      ]
    },
    {
      "cell_type": "code",
      "metadata": {
        "colab": {
          "base_uri": "https://localhost:8080/"
        },
        "id": "-3S30KsRQhkI",
        "outputId": "99ef5ce7-0fd7-44e7-cc84-6ffe70694aa1"
      },
      "source": [
        "np.sum(durcovid_user_variability[feature_columns])/485"
      ],
      "execution_count": null,
      "outputs": [
        {
          "output_type": "execute_result",
          "data": {
            "text/plain": [
              "danceability         0.104388\n",
              "loudness             2.830155\n",
              "mode                 0.239680\n",
              "speechiness          0.049014\n",
              "acousticness         0.178159\n",
              "instrumentalness     0.193362\n",
              "liveness             0.083936\n",
              "tempo               14.502361\n",
              "QPS_Q1               0.247967\n",
              "QPS_Q2               0.257584\n",
              "QPS_Q3               0.222520\n",
              "QPS_Q4               0.107513\n",
              "dtype: float64"
            ]
          },
          "metadata": {
            "tags": []
          },
          "execution_count": 30
        }
      ]
    },
    {
      "cell_type": "markdown",
      "metadata": {
        "id": "p1vv5_63AZ6V"
      },
      "source": [
        "### Similarly, correlation between K10 and each of the dynamic measures of audio and emotion features was computed."
      ]
    },
    {
      "cell_type": "markdown",
      "metadata": {
        "id": "k3w_XQ3sj5SD"
      },
      "source": [
        "#### Pre-Covid "
      ]
    },
    {
      "cell_type": "code",
      "metadata": {
        "colab": {
          "base_uri": "https://localhost:8080/"
        },
        "id": "yNirEDFdASha",
        "outputId": "d6b5fad6-87ae-4ec0-df0e-864d8aed7731"
      },
      "source": [
        "rp_list=[]\n",
        "for f in feature_columns:\n",
        "  r,p = stats.spearmanr(durcovid_user_autocorr['K-10'],durcovid_user_autocorr[f])\n",
        "  rp_list.append([r,p])\n",
        "print(rp_list)"
      ],
      "execution_count": null,
      "outputs": [
        {
          "output_type": "stream",
          "text": [
            "[[0.011120883341200129, 0.8066163968016411], [0.0008540607134761197, 0.9850014141844436], [0.13849151329495088, 0.0021901233766056932], [0.049268425930188736, 0.27786653300387976], [-0.0008991918896174366, 0.9842089436880621], [-0.012438734482303607, 0.7842351438500392], [0.05280389204088128, 0.24478999686416997], [-0.022616958579906875, 0.6185588567461688], [-0.003724829870492861, 0.9346555560769948], [-0.027820718374551374, 0.5402132198982814], [-0.01678874553012734, 0.7117034436075599], [0.004705965368279516, 0.9174984519276441]]\n"
          ],
          "name": "stdout"
        }
      ]
    },
    {
      "cell_type": "code",
      "metadata": {
        "colab": {
          "base_uri": "https://localhost:8080/",
          "height": 421
        },
        "id": "0rNwm8igBRqc",
        "outputId": "62bf2432-ebaf-41e9-cbb4-c481c6a60690"
      },
      "source": [
        "pd.DataFrame(rp_list,columns=['r','p_value']\n",
        "             ,index=feature_columns)"
      ],
      "execution_count": null,
      "outputs": [
        {
          "output_type": "execute_result",
          "data": {
            "text/html": [
              "<div>\n",
              "<style scoped>\n",
              "    .dataframe tbody tr th:only-of-type {\n",
              "        vertical-align: middle;\n",
              "    }\n",
              "\n",
              "    .dataframe tbody tr th {\n",
              "        vertical-align: top;\n",
              "    }\n",
              "\n",
              "    .dataframe thead th {\n",
              "        text-align: right;\n",
              "    }\n",
              "</style>\n",
              "<table border=\"1\" class=\"dataframe\">\n",
              "  <thead>\n",
              "    <tr style=\"text-align: right;\">\n",
              "      <th></th>\n",
              "      <th>r</th>\n",
              "      <th>p_value</th>\n",
              "    </tr>\n",
              "  </thead>\n",
              "  <tbody>\n",
              "    <tr>\n",
              "      <th>danceability</th>\n",
              "      <td>0.011121</td>\n",
              "      <td>0.806616</td>\n",
              "    </tr>\n",
              "    <tr>\n",
              "      <th>loudness</th>\n",
              "      <td>0.000854</td>\n",
              "      <td>0.985001</td>\n",
              "    </tr>\n",
              "    <tr>\n",
              "      <th>mode</th>\n",
              "      <td>0.138492</td>\n",
              "      <td>0.002190</td>\n",
              "    </tr>\n",
              "    <tr>\n",
              "      <th>speechiness</th>\n",
              "      <td>0.049268</td>\n",
              "      <td>0.277867</td>\n",
              "    </tr>\n",
              "    <tr>\n",
              "      <th>acousticness</th>\n",
              "      <td>-0.000899</td>\n",
              "      <td>0.984209</td>\n",
              "    </tr>\n",
              "    <tr>\n",
              "      <th>instrumentalness</th>\n",
              "      <td>-0.012439</td>\n",
              "      <td>0.784235</td>\n",
              "    </tr>\n",
              "    <tr>\n",
              "      <th>liveness</th>\n",
              "      <td>0.052804</td>\n",
              "      <td>0.244790</td>\n",
              "    </tr>\n",
              "    <tr>\n",
              "      <th>tempo</th>\n",
              "      <td>-0.022617</td>\n",
              "      <td>0.618559</td>\n",
              "    </tr>\n",
              "    <tr>\n",
              "      <th>QPS_Q1</th>\n",
              "      <td>-0.003725</td>\n",
              "      <td>0.934656</td>\n",
              "    </tr>\n",
              "    <tr>\n",
              "      <th>QPS_Q2</th>\n",
              "      <td>-0.027821</td>\n",
              "      <td>0.540213</td>\n",
              "    </tr>\n",
              "    <tr>\n",
              "      <th>QPS_Q3</th>\n",
              "      <td>-0.016789</td>\n",
              "      <td>0.711703</td>\n",
              "    </tr>\n",
              "    <tr>\n",
              "      <th>QPS_Q4</th>\n",
              "      <td>0.004706</td>\n",
              "      <td>0.917498</td>\n",
              "    </tr>\n",
              "  </tbody>\n",
              "</table>\n",
              "</div>"
            ],
            "text/plain": [
              "                         r   p_value\n",
              "danceability      0.011121  0.806616\n",
              "loudness          0.000854  0.985001\n",
              "mode              0.138492  0.002190\n",
              "speechiness       0.049268  0.277867\n",
              "acousticness     -0.000899  0.984209\n",
              "instrumentalness -0.012439  0.784235\n",
              "liveness          0.052804  0.244790\n",
              "tempo            -0.022617  0.618559\n",
              "QPS_Q1           -0.003725  0.934656\n",
              "QPS_Q2           -0.027821  0.540213\n",
              "QPS_Q3           -0.016789  0.711703\n",
              "QPS_Q4            0.004706  0.917498"
            ]
          },
          "metadata": {
            "tags": []
          },
          "execution_count": 33
        }
      ]
    },
    {
      "cell_type": "code",
      "metadata": {
        "colab": {
          "base_uri": "https://localhost:8080/"
        },
        "id": "2tWm7mVl-yQS",
        "outputId": "6e6623a4-bcee-4aec-85a5-6c841b3a5665"
      },
      "source": [
        "rp_list2=[]\n",
        "for f in feature_columns:\n",
        "  r,p = stats.spearmanr(precovid_user_variability['K-10'],precovid_user_variability[f])\n",
        "  rp_list2.append([r,p])\n",
        "print(rp_list2)"
      ],
      "execution_count": null,
      "outputs": [
        {
          "output_type": "stream",
          "text": [
            "[[-0.04065570144761321, 0.37064933102489594], [-0.0036031627813165328, 0.9367854207933316], [-0.06036029480465202, 0.18357582721867763], [0.044214408981696374, 0.3302076083411237], [0.021614505165955252, 0.6342023438379414], [-0.12587984202711233, 0.005404822085556042], [-0.07006146963979856, 0.12257706405180248], [-0.056713404698279034, 0.21153882105029886], [-0.06580234498819403, 0.1470665035295709], [-0.0645346165226453, 0.155032727321772], [0.023977600524446068, 0.5975995289332934], [0.031151872323207843, 0.4928002903543156]]\n"
          ],
          "name": "stdout"
        }
      ]
    },
    {
      "cell_type": "code",
      "metadata": {
        "id": "KLNjq8c22KlD"
      },
      "source": [
        "rp=np.concatenate((np.array(rp_list),np.array(rp_list2)),axis=1)"
      ],
      "execution_count": null,
      "outputs": []
    },
    {
      "cell_type": "code",
      "metadata": {
        "colab": {
          "base_uri": "https://localhost:8080/",
          "height": 421
        },
        "id": "GSkQSQVMBn0T",
        "outputId": "b6dc3331-4ea2-4080-9a0d-ec1b9f3189c4"
      },
      "source": [
        "pd.DataFrame(rp,columns=['r_var','p_var','r_iner','p_iner']\n",
        "             ,index=feature_columns)"
      ],
      "execution_count": null,
      "outputs": [
        {
          "output_type": "execute_result",
          "data": {
            "text/html": [
              "<div>\n",
              "<style scoped>\n",
              "    .dataframe tbody tr th:only-of-type {\n",
              "        vertical-align: middle;\n",
              "    }\n",
              "\n",
              "    .dataframe tbody tr th {\n",
              "        vertical-align: top;\n",
              "    }\n",
              "\n",
              "    .dataframe thead th {\n",
              "        text-align: right;\n",
              "    }\n",
              "</style>\n",
              "<table border=\"1\" class=\"dataframe\">\n",
              "  <thead>\n",
              "    <tr style=\"text-align: right;\">\n",
              "      <th></th>\n",
              "      <th>r_var</th>\n",
              "      <th>p_var</th>\n",
              "      <th>r_iner</th>\n",
              "      <th>p_iner</th>\n",
              "    </tr>\n",
              "  </thead>\n",
              "  <tbody>\n",
              "    <tr>\n",
              "      <th>danceability</th>\n",
              "      <td>0.011121</td>\n",
              "      <td>0.806616</td>\n",
              "      <td>-0.040656</td>\n",
              "      <td>0.370649</td>\n",
              "    </tr>\n",
              "    <tr>\n",
              "      <th>loudness</th>\n",
              "      <td>0.000854</td>\n",
              "      <td>0.985001</td>\n",
              "      <td>-0.003603</td>\n",
              "      <td>0.936785</td>\n",
              "    </tr>\n",
              "    <tr>\n",
              "      <th>mode</th>\n",
              "      <td>0.138492</td>\n",
              "      <td>0.002190</td>\n",
              "      <td>-0.060360</td>\n",
              "      <td>0.183576</td>\n",
              "    </tr>\n",
              "    <tr>\n",
              "      <th>speechiness</th>\n",
              "      <td>0.049268</td>\n",
              "      <td>0.277867</td>\n",
              "      <td>0.044214</td>\n",
              "      <td>0.330208</td>\n",
              "    </tr>\n",
              "    <tr>\n",
              "      <th>acousticness</th>\n",
              "      <td>-0.000899</td>\n",
              "      <td>0.984209</td>\n",
              "      <td>0.021615</td>\n",
              "      <td>0.634202</td>\n",
              "    </tr>\n",
              "    <tr>\n",
              "      <th>instrumentalness</th>\n",
              "      <td>-0.012439</td>\n",
              "      <td>0.784235</td>\n",
              "      <td>-0.125880</td>\n",
              "      <td>0.005405</td>\n",
              "    </tr>\n",
              "    <tr>\n",
              "      <th>liveness</th>\n",
              "      <td>0.052804</td>\n",
              "      <td>0.244790</td>\n",
              "      <td>-0.070061</td>\n",
              "      <td>0.122577</td>\n",
              "    </tr>\n",
              "    <tr>\n",
              "      <th>tempo</th>\n",
              "      <td>-0.022617</td>\n",
              "      <td>0.618559</td>\n",
              "      <td>-0.056713</td>\n",
              "      <td>0.211539</td>\n",
              "    </tr>\n",
              "    <tr>\n",
              "      <th>QPS_Q1</th>\n",
              "      <td>-0.003725</td>\n",
              "      <td>0.934656</td>\n",
              "      <td>-0.065802</td>\n",
              "      <td>0.147067</td>\n",
              "    </tr>\n",
              "    <tr>\n",
              "      <th>QPS_Q2</th>\n",
              "      <td>-0.027821</td>\n",
              "      <td>0.540213</td>\n",
              "      <td>-0.064535</td>\n",
              "      <td>0.155033</td>\n",
              "    </tr>\n",
              "    <tr>\n",
              "      <th>QPS_Q3</th>\n",
              "      <td>-0.016789</td>\n",
              "      <td>0.711703</td>\n",
              "      <td>0.023978</td>\n",
              "      <td>0.597600</td>\n",
              "    </tr>\n",
              "    <tr>\n",
              "      <th>QPS_Q4</th>\n",
              "      <td>0.004706</td>\n",
              "      <td>0.917498</td>\n",
              "      <td>0.031152</td>\n",
              "      <td>0.492800</td>\n",
              "    </tr>\n",
              "  </tbody>\n",
              "</table>\n",
              "</div>"
            ],
            "text/plain": [
              "                     r_var     p_var    r_iner    p_iner\n",
              "danceability      0.011121  0.806616 -0.040656  0.370649\n",
              "loudness          0.000854  0.985001 -0.003603  0.936785\n",
              "mode              0.138492  0.002190 -0.060360  0.183576\n",
              "speechiness       0.049268  0.277867  0.044214  0.330208\n",
              "acousticness     -0.000899  0.984209  0.021615  0.634202\n",
              "instrumentalness -0.012439  0.784235 -0.125880  0.005405\n",
              "liveness          0.052804  0.244790 -0.070061  0.122577\n",
              "tempo            -0.022617  0.618559 -0.056713  0.211539\n",
              "QPS_Q1           -0.003725  0.934656 -0.065802  0.147067\n",
              "QPS_Q2           -0.027821  0.540213 -0.064535  0.155033\n",
              "QPS_Q3           -0.016789  0.711703  0.023978  0.597600\n",
              "QPS_Q4            0.004706  0.917498  0.031152  0.492800"
            ]
          },
          "metadata": {
            "tags": []
          },
          "execution_count": 36
        }
      ]
    },
    {
      "cell_type": "markdown",
      "metadata": {
        "id": "B4iiFCCvrm72"
      },
      "source": [
        "### Average Analysis"
      ]
    },
    {
      "cell_type": "code",
      "metadata": {
        "id": "oK-3I_kvr7QZ"
      },
      "source": [
        "def get_average_summary(df):\n",
        "  total_user =len(df['total_session'])\n",
        "  print(f\"Average Number of sessions per user : {np.sum(df['total_session'])/total_user}\")\n",
        "  print(f\"Average Number of tracks per user : {np.sum(df['total_tracks'])/total_user}\")\n",
        "  print(f\"Average of RepetitivenessIndex per user : {np.sum(df['repetitiveness_index'])/total_user}\")"
      ],
      "execution_count": 56,
      "outputs": []
    },
    {
      "cell_type": "markdown",
      "metadata": {
        "id": "qU0ga0Y2kMaJ"
      },
      "source": [
        "#### All Users"
      ]
    },
    {
      "cell_type": "code",
      "metadata": {
        "colab": {
          "base_uri": "https://localhost:8080/"
        },
        "id": "znOPDdxqsOZ9",
        "outputId": "8a82f5ba-cca0-45f3-8936-c2e71d5f6cb3"
      },
      "source": [
        "get_average_summary(precovid_all_user_summary)"
      ],
      "execution_count": 57,
      "outputs": [
        {
          "output_type": "stream",
          "text": [
            "Average Number of sessions per user : 302.24536082474225\n",
            "Average Number of tracks per user : 6928.878350515464\n",
            "Average of RepetitivenessIndex per user : 0.2800412836992624\n"
          ],
          "name": "stdout"
        }
      ]
    },
    {
      "cell_type": "code",
      "metadata": {
        "colab": {
          "base_uri": "https://localhost:8080/"
        },
        "id": "pw6b1tclsQut",
        "outputId": "704f33b5-04b7-49b1-e50e-38e3640f88af"
      },
      "source": [
        "get_average_summary(durcovid_all_user_summary)"
      ],
      "execution_count": 58,
      "outputs": [
        {
          "output_type": "stream",
          "text": [
            "Average Number of sessions per user : 290.4989690721649\n",
            "Average Number of tracks per user : 7130.79587628866\n",
            "Average of RepetitivenessIndex per user : 0.29263979020204806\n"
          ],
          "name": "stdout"
        }
      ]
    },
    {
      "cell_type": "markdown",
      "metadata": {
        "id": "sPSVXFutkYQd"
      },
      "source": [
        "#### No Risk and At Risk"
      ]
    },
    {
      "cell_type": "code",
      "metadata": {
        "id": "2SLRtYAVMhrT"
      },
      "source": [
        "dur_summary_no_risk = durcovid_all_user_summary[durcovid_all_user_summary['K10']<20]\n",
        "dur_summary_at_risk = durcovid_all_user_summary[durcovid_all_user_summary['K10']>29]\n",
        "pre_summary_no_risk = precovid_all_user_summary[precovid_all_user_summary['K10']<20]\n",
        "pre_summary_at_risk = precovid_all_user_summary[precovid_all_user_summary['K10']>29]"
      ],
      "execution_count": 59,
      "outputs": []
    },
    {
      "cell_type": "code",
      "metadata": {
        "colab": {
          "base_uri": "https://localhost:8080/"
        },
        "id": "cs88vfzqNDDo",
        "outputId": "5c11101c-af38-4f5c-afe5-dd969f331fce"
      },
      "source": [
        "get_average_summary(dur_summary_no_risk)"
      ],
      "execution_count": 60,
      "outputs": [
        {
          "output_type": "stream",
          "text": [
            "Average Number of sessions per user : 271.9611111111111\n",
            "Average Number of tracks per user : 6619.811111111111\n",
            "Average of RepetitivenessIndex per user : 0.25368263229636534\n"
          ],
          "name": "stdout"
        }
      ]
    },
    {
      "cell_type": "code",
      "metadata": {
        "colab": {
          "base_uri": "https://localhost:8080/"
        },
        "id": "IOvEOBUCNJdg",
        "outputId": "3a8d73cf-0e62-4244-fee7-24fffafe2d4c"
      },
      "source": [
        "get_average_summary(pre_summary_no_risk)"
      ],
      "execution_count": 61,
      "outputs": [
        {
          "output_type": "stream",
          "text": [
            "Average Number of sessions per user : 281.2388888888889\n",
            "Average Number of tracks per user : 6635.8\n",
            "Average of RepetitivenessIndex per user : 0.22198648657636053\n"
          ],
          "name": "stdout"
        }
      ]
    },
    {
      "cell_type": "code",
      "metadata": {
        "colab": {
          "base_uri": "https://localhost:8080/"
        },
        "id": "qbdM4SjMNTto",
        "outputId": "6d407e44-ca77-4805-9371-d555b92df331"
      },
      "source": [
        "get_average_summary(dur_summary_at_risk)"
      ],
      "execution_count": 62,
      "outputs": [
        {
          "output_type": "stream",
          "text": [
            "Average Number of sessions per user : 315.975\n",
            "Average Number of tracks per user : 7684.308333333333\n",
            "Average of RepetitivenessIndex per user : 0.24773424712555595\n"
          ],
          "name": "stdout"
        }
      ]
    },
    {
      "cell_type": "code",
      "metadata": {
        "colab": {
          "base_uri": "https://localhost:8080/"
        },
        "id": "KZk8wyONNTa9",
        "outputId": "8ca3fbab-0541-415d-be36-029dd589f38b"
      },
      "source": [
        "get_average_summary(pre_summary_at_risk)"
      ],
      "execution_count": 63,
      "outputs": [
        {
          "output_type": "stream",
          "text": [
            "Average Number of sessions per user : 329.9\n",
            "Average Number of tracks per user : 7762.825\n",
            "Average of RepetitivenessIndex per user : 0.26068500901658753\n"
          ],
          "name": "stdout"
        }
      ]
    },
    {
      "cell_type": "markdown",
      "metadata": {
        "id": "J29B5yVvtWd8"
      },
      "source": [
        "### Two Way ANOVA Implementation  \n"
      ]
    },
    {
      "cell_type": "markdown",
      "metadata": {
        "id": "acCaU_h2mW_2"
      },
      "source": [
        "Time-period (before-covid / during-covid) and risk (At-risk/No-risk) as the 2 independent variables and consider each feature as a dependent variable one at a time. Interaction plot is also plotted for each feature.\n",
        " \n",
        "\n",
        "Features considered are:\n",
        "1. Dynamic features: repetitiveness index, total playcount, number of sessions, inertia for the 4 quadrants \n",
        "2. Static features: Just the 4 quadrant prevalence scores"
      ]
    },
    {
      "cell_type": "code",
      "metadata": {
        "colab": {
          "base_uri": "https://localhost:8080/",
          "height": 241
        },
        "id": "sLdyr25HMIfg",
        "outputId": "2ea56ba1-2bab-4e3c-da02-040c5dffe23d"
      },
      "source": [
        "df_dur  = pd.concat([dur_summary_no_risk,dur_summary_at_risk])\n",
        "df_dur['time-period'] = 'during'\n",
        "\n",
        "df_dur = pd.merge(df_dur, durcovid_user_variability, on='user_id', how='inner',suffixes=('','_var'))\n",
        "df_dur = pd.merge(df_dur, durcovid_user_autocorr, on='user_id', how='inner',suffixes=('','_auto'))\n",
        "#len(df_dur)\n",
        "\n",
        "df_pre  = pd.concat([pre_summary_no_risk,pre_summary_at_risk])\n",
        "df_pre['time-period'] = 'before'\n",
        "df_pre = pd.merge(df_pre, precovid_user_variability, on='user_id', how='inner',suffixes=('','_var'))\n",
        "df_pre = pd.merge(df_pre, precovid_user_autocorr, on='user_id', how='inner',suffixes=('','_auto'))\n",
        "df_all = pd.concat([df_dur,df_pre])\n",
        "df_all['risk'] = np.where(df_all['K10'] > 29, 'atrisk', 'norisk')\n",
        "#len(df_all)\n",
        "df_all.head()"
      ],
      "execution_count": 91,
      "outputs": [
        {
          "output_type": "execute_result",
          "data": {
            "text/html": [
              "<div>\n",
              "<style scoped>\n",
              "    .dataframe tbody tr th:only-of-type {\n",
              "        vertical-align: middle;\n",
              "    }\n",
              "\n",
              "    .dataframe tbody tr th {\n",
              "        vertical-align: top;\n",
              "    }\n",
              "\n",
              "    .dataframe thead th {\n",
              "        text-align: right;\n",
              "    }\n",
              "</style>\n",
              "<table border=\"1\" class=\"dataframe\">\n",
              "  <thead>\n",
              "    <tr style=\"text-align: right;\">\n",
              "      <th></th>\n",
              "      <th>user_id</th>\n",
              "      <th>K10</th>\n",
              "      <th>total_session</th>\n",
              "      <th>total_tracks</th>\n",
              "      <th>repetitiveness_index</th>\n",
              "      <th>danceability</th>\n",
              "      <th>loudness</th>\n",
              "      <th>mode</th>\n",
              "      <th>speechiness</th>\n",
              "      <th>acousticness</th>\n",
              "      <th>instrumentalness</th>\n",
              "      <th>liveness</th>\n",
              "      <th>tempo</th>\n",
              "      <th>QPS_Q1</th>\n",
              "      <th>QPS_Q2</th>\n",
              "      <th>QPS_Q3</th>\n",
              "      <th>QPS_Q4</th>\n",
              "      <th>time-period</th>\n",
              "      <th>K-10</th>\n",
              "      <th>danceability_var</th>\n",
              "      <th>loudness_var</th>\n",
              "      <th>mode_var</th>\n",
              "      <th>speechiness_var</th>\n",
              "      <th>acousticness_var</th>\n",
              "      <th>instrumentalness_var</th>\n",
              "      <th>liveness_var</th>\n",
              "      <th>tempo_var</th>\n",
              "      <th>QPS_Q1_var</th>\n",
              "      <th>QPS_Q2_var</th>\n",
              "      <th>QPS_Q3_var</th>\n",
              "      <th>QPS_Q4_var</th>\n",
              "      <th>K-10_auto</th>\n",
              "      <th>danceability_auto</th>\n",
              "      <th>loudness_auto</th>\n",
              "      <th>mode_auto</th>\n",
              "      <th>speechiness_auto</th>\n",
              "      <th>acousticness_auto</th>\n",
              "      <th>instrumentalness_auto</th>\n",
              "      <th>liveness_auto</th>\n",
              "      <th>tempo_auto</th>\n",
              "      <th>QPS_Q1_auto</th>\n",
              "      <th>QPS_Q2_auto</th>\n",
              "      <th>QPS_Q3_auto</th>\n",
              "      <th>QPS_Q4_auto</th>\n",
              "      <th>risk</th>\n",
              "    </tr>\n",
              "  </thead>\n",
              "  <tbody>\n",
              "    <tr>\n",
              "      <th>0</th>\n",
              "      <td>03e7c2869742ac3b8b04a45675ab5b24</td>\n",
              "      <td>12</td>\n",
              "      <td>316</td>\n",
              "      <td>26177</td>\n",
              "      <td>0.312838</td>\n",
              "      <td>0.496138</td>\n",
              "      <td>-11.763121</td>\n",
              "      <td>0.692555</td>\n",
              "      <td>0.070508</td>\n",
              "      <td>0.536651</td>\n",
              "      <td>0.243316</td>\n",
              "      <td>0.168592</td>\n",
              "      <td>116.045884</td>\n",
              "      <td>0.192192</td>\n",
              "      <td>0.200252</td>\n",
              "      <td>0.493028</td>\n",
              "      <td>0.114528</td>\n",
              "      <td>during</td>\n",
              "      <td>12</td>\n",
              "      <td>0.081767</td>\n",
              "      <td>2.645149</td>\n",
              "      <td>0.146357</td>\n",
              "      <td>0.050171</td>\n",
              "      <td>0.154996</td>\n",
              "      <td>0.198674</td>\n",
              "      <td>0.050484</td>\n",
              "      <td>9.643929</td>\n",
              "      <td>0.144777</td>\n",
              "      <td>0.150591</td>\n",
              "      <td>0.219181</td>\n",
              "      <td>0.097228</td>\n",
              "      <td>12</td>\n",
              "      <td>0.212409</td>\n",
              "      <td>0.192599</td>\n",
              "      <td>0.088977</td>\n",
              "      <td>0.194389</td>\n",
              "      <td>0.285146</td>\n",
              "      <td>0.200652</td>\n",
              "      <td>0.049879</td>\n",
              "      <td>0.172934</td>\n",
              "      <td>0.259115</td>\n",
              "      <td>0.082721</td>\n",
              "      <td>0.161561</td>\n",
              "      <td>0.162826</td>\n",
              "      <td>norisk</td>\n",
              "    </tr>\n",
              "    <tr>\n",
              "      <th>1</th>\n",
              "      <td>03c38064fb423b47d5292bffc09785cc</td>\n",
              "      <td>19</td>\n",
              "      <td>282</td>\n",
              "      <td>3682</td>\n",
              "      <td>0.170458</td>\n",
              "      <td>0.493990</td>\n",
              "      <td>-10.037932</td>\n",
              "      <td>0.640141</td>\n",
              "      <td>0.055906</td>\n",
              "      <td>0.253201</td>\n",
              "      <td>0.247158</td>\n",
              "      <td>0.212354</td>\n",
              "      <td>120.787736</td>\n",
              "      <td>0.356600</td>\n",
              "      <td>0.338946</td>\n",
              "      <td>0.230853</td>\n",
              "      <td>0.073601</td>\n",
              "      <td>during</td>\n",
              "      <td>19</td>\n",
              "      <td>0.117222</td>\n",
              "      <td>3.070857</td>\n",
              "      <td>0.267048</td>\n",
              "      <td>0.036650</td>\n",
              "      <td>0.198486</td>\n",
              "      <td>0.239705</td>\n",
              "      <td>0.131624</td>\n",
              "      <td>14.915816</td>\n",
              "      <td>0.287767</td>\n",
              "      <td>0.306521</td>\n",
              "      <td>0.253601</td>\n",
              "      <td>0.122421</td>\n",
              "      <td>19</td>\n",
              "      <td>0.139628</td>\n",
              "      <td>0.195127</td>\n",
              "      <td>0.163588</td>\n",
              "      <td>0.048842</td>\n",
              "      <td>0.090204</td>\n",
              "      <td>0.085517</td>\n",
              "      <td>0.138682</td>\n",
              "      <td>0.039550</td>\n",
              "      <td>0.148056</td>\n",
              "      <td>0.063424</td>\n",
              "      <td>-0.001909</td>\n",
              "      <td>0.185546</td>\n",
              "      <td>norisk</td>\n",
              "    </tr>\n",
              "    <tr>\n",
              "      <th>2</th>\n",
              "      <td>080718a2684221573b174563e37c8f42</td>\n",
              "      <td>15</td>\n",
              "      <td>361</td>\n",
              "      <td>25888</td>\n",
              "      <td>0.407636</td>\n",
              "      <td>0.566288</td>\n",
              "      <td>-8.860651</td>\n",
              "      <td>0.779473</td>\n",
              "      <td>0.057389</td>\n",
              "      <td>0.393355</td>\n",
              "      <td>0.067773</td>\n",
              "      <td>0.164282</td>\n",
              "      <td>121.275804</td>\n",
              "      <td>0.261627</td>\n",
              "      <td>0.295813</td>\n",
              "      <td>0.362678</td>\n",
              "      <td>0.079883</td>\n",
              "      <td>during</td>\n",
              "      <td>15</td>\n",
              "      <td>0.087754</td>\n",
              "      <td>2.761957</td>\n",
              "      <td>0.178888</td>\n",
              "      <td>0.060863</td>\n",
              "      <td>0.188214</td>\n",
              "      <td>0.135734</td>\n",
              "      <td>0.067281</td>\n",
              "      <td>11.878726</td>\n",
              "      <td>0.274229</td>\n",
              "      <td>0.193536</td>\n",
              "      <td>0.215216</td>\n",
              "      <td>0.118901</td>\n",
              "      <td>15</td>\n",
              "      <td>-0.037283</td>\n",
              "      <td>-0.052269</td>\n",
              "      <td>-0.060819</td>\n",
              "      <td>-0.008238</td>\n",
              "      <td>-0.140533</td>\n",
              "      <td>0.196026</td>\n",
              "      <td>0.056367</td>\n",
              "      <td>0.041870</td>\n",
              "      <td>0.007465</td>\n",
              "      <td>0.094951</td>\n",
              "      <td>-0.097946</td>\n",
              "      <td>0.129236</td>\n",
              "      <td>norisk</td>\n",
              "    </tr>\n",
              "    <tr>\n",
              "      <th>3</th>\n",
              "      <td>03a050d649de4bf6e489a064515e2f43</td>\n",
              "      <td>19</td>\n",
              "      <td>324</td>\n",
              "      <td>5938</td>\n",
              "      <td>0.041598</td>\n",
              "      <td>0.521892</td>\n",
              "      <td>-9.961948</td>\n",
              "      <td>0.666049</td>\n",
              "      <td>0.061688</td>\n",
              "      <td>0.463288</td>\n",
              "      <td>0.231279</td>\n",
              "      <td>0.179299</td>\n",
              "      <td>115.739596</td>\n",
              "      <td>0.236106</td>\n",
              "      <td>0.261873</td>\n",
              "      <td>0.407039</td>\n",
              "      <td>0.094981</td>\n",
              "      <td>during</td>\n",
              "      <td>19</td>\n",
              "      <td>0.091669</td>\n",
              "      <td>2.533376</td>\n",
              "      <td>0.247829</td>\n",
              "      <td>0.031872</td>\n",
              "      <td>0.193434</td>\n",
              "      <td>0.181380</td>\n",
              "      <td>0.083687</td>\n",
              "      <td>14.725980</td>\n",
              "      <td>0.237443</td>\n",
              "      <td>0.213047</td>\n",
              "      <td>0.278848</td>\n",
              "      <td>0.135110</td>\n",
              "      <td>19</td>\n",
              "      <td>0.104639</td>\n",
              "      <td>0.212375</td>\n",
              "      <td>0.033407</td>\n",
              "      <td>0.112035</td>\n",
              "      <td>0.048566</td>\n",
              "      <td>0.154044</td>\n",
              "      <td>0.287414</td>\n",
              "      <td>0.060339</td>\n",
              "      <td>0.063645</td>\n",
              "      <td>0.007104</td>\n",
              "      <td>0.171088</td>\n",
              "      <td>0.078335</td>\n",
              "      <td>norisk</td>\n",
              "    </tr>\n",
              "    <tr>\n",
              "      <th>4</th>\n",
              "      <td>0274a823eec1e677645b20883a5e7897</td>\n",
              "      <td>18</td>\n",
              "      <td>176</td>\n",
              "      <td>1763</td>\n",
              "      <td>0.088064</td>\n",
              "      <td>0.475193</td>\n",
              "      <td>-6.589604</td>\n",
              "      <td>0.570051</td>\n",
              "      <td>0.060953</td>\n",
              "      <td>0.106861</td>\n",
              "      <td>0.068974</td>\n",
              "      <td>0.209229</td>\n",
              "      <td>125.331460</td>\n",
              "      <td>0.317640</td>\n",
              "      <td>0.546795</td>\n",
              "      <td>0.113443</td>\n",
              "      <td>0.022121</td>\n",
              "      <td>during</td>\n",
              "      <td>18</td>\n",
              "      <td>0.089700</td>\n",
              "      <td>2.035088</td>\n",
              "      <td>0.300352</td>\n",
              "      <td>0.032921</td>\n",
              "      <td>0.102221</td>\n",
              "      <td>0.156074</td>\n",
              "      <td>0.134526</td>\n",
              "      <td>16.544187</td>\n",
              "      <td>0.305842</td>\n",
              "      <td>0.329645</td>\n",
              "      <td>0.177228</td>\n",
              "      <td>0.067578</td>\n",
              "      <td>18</td>\n",
              "      <td>0.288574</td>\n",
              "      <td>0.141872</td>\n",
              "      <td>0.141503</td>\n",
              "      <td>0.266378</td>\n",
              "      <td>0.225560</td>\n",
              "      <td>0.124101</td>\n",
              "      <td>0.180892</td>\n",
              "      <td>0.011003</td>\n",
              "      <td>-0.003399</td>\n",
              "      <td>0.030072</td>\n",
              "      <td>0.056405</td>\n",
              "      <td>0.207170</td>\n",
              "      <td>norisk</td>\n",
              "    </tr>\n",
              "  </tbody>\n",
              "</table>\n",
              "</div>"
            ],
            "text/plain": [
              "                            user_id  K10  ...  QPS_Q4_auto    risk\n",
              "0  03e7c2869742ac3b8b04a45675ab5b24   12  ...     0.162826  norisk\n",
              "1  03c38064fb423b47d5292bffc09785cc   19  ...     0.185546  norisk\n",
              "2  080718a2684221573b174563e37c8f42   15  ...     0.129236  norisk\n",
              "3  03a050d649de4bf6e489a064515e2f43   19  ...     0.078335  norisk\n",
              "4  0274a823eec1e677645b20883a5e7897   18  ...     0.207170  norisk\n",
              "\n",
              "[5 rows x 45 columns]"
            ]
          },
          "metadata": {
            "tags": []
          },
          "execution_count": 91
        }
      ]
    },
    {
      "cell_type": "code",
      "metadata": {
        "id": "YVMyIFDT5xlp"
      },
      "source": [
        "# df_dur  = pd.concat([dur_summary_no_risk,dur_summary_at_risk])\n",
        "# df_dur['time-period'] = 'during'\n",
        "# df_pre  = pd.concat([pre_summary_no_risk,pre_summary_at_risk])\n",
        "# df_pre['time-period'] = 'before'\n",
        "# df_all = pd.concat([df_dur,df_pre])\n",
        "# df_all['risk'] = np.where(df_all['K10'] > 29, 'atrisk', 'norisk')\n",
        "# len(df_all)\n",
        "# df_all.head()"
      ],
      "execution_count": null,
      "outputs": []
    },
    {
      "cell_type": "code",
      "metadata": {
        "id": "eMMnbbCNQuwH"
      },
      "source": [
        "#df_all[['time-period','risk','QPS_Q3']]"
      ],
      "execution_count": 92,
      "outputs": []
    },
    {
      "cell_type": "markdown",
      "metadata": {
        "id": "YJ0q7u3jmssw"
      },
      "source": [
        "#### QPS_Q1"
      ]
    },
    {
      "cell_type": "code",
      "metadata": {
        "id": "lB6s2BprI0Fq",
        "colab": {
          "base_uri": "https://localhost:8080/"
        },
        "outputId": "41562ffa-3d01-4cca-962e-2403bd519595"
      },
      "source": [
        "aov1 = mixed_anova(dv='QPS_Q1', between='risk',\n",
        "                  within='time-period',subject='user_id', data=df_all)\n",
        "print(aov1)"
      ],
      "execution_count": 93,
      "outputs": [
        {
          "output_type": "stream",
          "text": [
            "        Source        SS  DF1  DF2        MS         F     p-unc       np2  eps\n",
            "0         risk  0.015513    1  298  0.015513  0.575244  0.448782  0.001927  NaN\n",
            "1  time-period  0.008861    1  298  0.008861  3.882055  0.049730  0.012860  1.0\n",
            "2  Interaction  0.006705    1  298  0.006705  2.937615  0.087578  0.009762  NaN\n"
          ],
          "name": "stdout"
        }
      ]
    },
    {
      "cell_type": "code",
      "metadata": {
        "colab": {
          "base_uri": "https://localhost:8080/",
          "height": 279
        },
        "id": "Oh_NVnRCB-T9",
        "outputId": "071f60f0-2dba-4837-93ec-a729ade3d921"
      },
      "source": [
        "fig = interaction_plot(df_all['risk'],df_all['time-period'],df_all['QPS_Q1'],\n",
        "                       colors=['red','blue'], markers=['D','^'], ms=10)\n",
        "plt.show()"
      ],
      "execution_count": null,
      "outputs": [
        {
          "output_type": "display_data",
          "data": {
            "image/png": "[encoded data removed]",
            "text/plain": [
              "<Figure size 432x288 with 1 Axes>"
            ]
          },
          "metadata": {
            "tags": [],
            "needs_background": "light"
          }
        }
      ]
    },
    {
      "cell_type": "markdown",
      "metadata": {
        "id": "o5ftkpJ6m8EK"
      },
      "source": [
        "#### QPS_Q2"
      ]
    },
    {
      "cell_type": "code",
      "metadata": {
        "id": "kz2zLkYEI7zz",
        "colab": {
          "base_uri": "https://localhost:8080/"
        },
        "outputId": "dafbc08f-b02e-4478-99a2-7ac29d8b41a1"
      },
      "source": [
        "aov2 = mixed_anova(dv='QPS_Q2', between='risk',\n",
        "                  within='time-period',subject='user_id', data=df_all)\n",
        "print(aov2)"
      ],
      "execution_count": 94,
      "outputs": [
        {
          "output_type": "stream",
          "text": [
            "        Source        SS  DF1  DF2  ...          F     p-unc       np2  eps\n",
            "0         risk  0.040038    1  298  ...   0.821293  0.365535  0.002748  NaN\n",
            "1  time-period  0.046387    1  298  ...  19.381620  0.000015  0.061067  1.0\n",
            "2  Interaction  0.000561    1  298  ...   0.234474  0.628582  0.000786  NaN\n",
            "\n",
            "[3 rows x 9 columns]\n"
          ],
          "name": "stdout"
        }
      ]
    },
    {
      "cell_type": "code",
      "metadata": {
        "colab": {
          "base_uri": "https://localhost:8080/",
          "height": 281
        },
        "id": "jgWD78jHC3iJ",
        "outputId": "d7f6d7d1-2af4-47e6-e6fe-5931ae470ac0"
      },
      "source": [
        "fig = interaction_plot(df_all['risk'],df_all['time-period'],df_all['QPS_Q2'],\n",
        "                       colors=['red','blue'], markers=['D','^'], ms=10)\n",
        "plt.show()"
      ],
      "execution_count": null,
      "outputs": [
        {
          "output_type": "display_data",
          "data": {
            "image/png": "[encoded data removed]",
            "text/plain": [
              "<Figure size 432x288 with 1 Axes>"
            ]
          },
          "metadata": {
            "tags": [],
            "needs_background": "light"
          }
        }
      ]
    },
    {
      "cell_type": "markdown",
      "metadata": {
        "id": "7kqErr4nm_Au"
      },
      "source": [
        "#### QPS_Q3"
      ]
    },
    {
      "cell_type": "code",
      "metadata": {
        "colab": {
          "base_uri": "https://localhost:8080/"
        },
        "id": "dHPGle0vt5YX",
        "outputId": "b9da9140-582c-4074-81af-c6171d2d602b"
      },
      "source": [
        "aov3 = mixed_anova(dv='QPS_Q3', between='risk',\n",
        "                  within='time-period',subject='user_id', data=df_all)\n",
        "print(aov3)"
      ],
      "execution_count": 95,
      "outputs": [
        {
          "output_type": "stream",
          "text": [
            "        Source        SS  DF1  DF2        MS         F     p-unc       np2  eps\n",
            "0         risk  0.002698    1  298  0.002698  0.093034  0.760568  0.000312  NaN\n",
            "1  time-period  0.005211    1  298  0.005211  1.641407  0.201129  0.005478  1.0\n",
            "2  Interaction  0.000687    1  298  0.000687  0.216258  0.642246  0.000725  NaN\n"
          ],
          "name": "stdout"
        }
      ]
    },
    {
      "cell_type": "code",
      "metadata": {
        "colab": {
          "base_uri": "https://localhost:8080/",
          "height": 283
        },
        "id": "Fa-07uA5Ddzn",
        "outputId": "fc882abf-5ec7-488a-c1e4-06e8df6fc1b8"
      },
      "source": [
        "fig = interaction_plot(df_all['risk'],df_all['time-period'],df_all['QPS_Q3'],\n",
        "                       colors=['red','blue'], markers=['D','^'], ms=10)\n",
        "plt.show()"
      ],
      "execution_count": null,
      "outputs": [
        {
          "output_type": "display_data",
          "data": {
            "image/png": "[encoded data removed]",
            "text/plain": [
              "<Figure size 432x288 with 1 Axes>"
            ]
          },
          "metadata": {
            "tags": [],
            "needs_background": "light"
          }
        }
      ]
    },
    {
      "cell_type": "markdown",
      "metadata": {
        "id": "ERWD3yxPnEhA"
      },
      "source": [
        "#### QPS_Q4"
      ]
    },
    {
      "cell_type": "code",
      "metadata": {
        "colab": {
          "base_uri": "https://localhost:8080/"
        },
        "id": "of7Utc9Ft7ap",
        "outputId": "b2db2ea4-37aa-42f6-aa76-5aaeeb249993"
      },
      "source": [
        "aov4 = mixed_anova(dv='QPS_Q4', between='risk',\n",
        "                  within='time-period',subject='user_id', data=df_all)\n",
        "print(aov4)"
      ],
      "execution_count": 96,
      "outputs": [
        {
          "output_type": "stream",
          "text": [
            "        Source        SS  DF1  DF2        MS         F     p-unc       np2  eps\n",
            "0         risk  0.000557    1  298  0.000557  0.196168  0.658154  0.000658  NaN\n",
            "1  time-period  0.002407    1  298  0.002407  5.202861  0.023255  0.017160  1.0\n",
            "2  Interaction  0.001024    1  298  0.001024  2.212826  0.137925  0.007371  NaN\n"
          ],
          "name": "stdout"
        }
      ]
    },
    {
      "cell_type": "code",
      "metadata": {
        "colab": {
          "base_uri": "https://localhost:8080/",
          "height": 279
        },
        "id": "11h2qDgVEu0L",
        "outputId": "5cf57415-a081-42f5-8042-f8fccb5257ce"
      },
      "source": [
        "fig = interaction_plot(df_all['risk'],df_all['time-period'],df_all['QPS_Q4'],\n",
        "                       colors=['red','blue'], markers=['D','^'], ms=10)\n",
        "plt.show()"
      ],
      "execution_count": null,
      "outputs": [
        {
          "output_type": "display_data",
          "data": {
            "image/png": "[encoded data removed]",
            "text/plain": [
              "<Figure size 432x288 with 1 Axes>"
            ]
          },
          "metadata": {
            "tags": [],
            "needs_background": "light"
          }
        }
      ]
    },
    {
      "cell_type": "markdown",
      "metadata": {
        "id": "3TfFnOQrnIFh"
      },
      "source": [
        "#### Repetitiveness Index"
      ]
    },
    {
      "cell_type": "code",
      "metadata": {
        "colab": {
          "base_uri": "https://localhost:8080/"
        },
        "id": "yuAt6SyGt-B-",
        "outputId": "144de3fe-b567-4fc6-8285-7af52c8f291e"
      },
      "source": [
        "aov5 = mixed_anova(dv='repetitiveness_index', between='risk',\n",
        "                  within='time-period',subject='user_id', data=df_all)\n",
        "print(aov5)"
      ],
      "execution_count": 97,
      "outputs": [
        {
          "output_type": "stream",
          "text": [
            "        Source        SS  DF1  DF2        MS         F     p-unc       np2  eps\n",
            "0         risk  0.038613    1  298  0.038613  0.192934  0.660805  0.000647  NaN\n",
            "1  time-period  0.028721    1  298  0.028721  0.411317  0.521795  0.001378  1.0\n",
            "2  Interaction  0.071760    1  298  0.071760  1.027691  0.311524  0.003437  NaN\n"
          ],
          "name": "stdout"
        }
      ]
    },
    {
      "cell_type": "markdown",
      "metadata": {
        "id": "7QtFIW9qnMw1"
      },
      "source": [
        "#### Total Session"
      ]
    },
    {
      "cell_type": "code",
      "metadata": {
        "colab": {
          "base_uri": "https://localhost:8080/"
        },
        "id": "hFRZBSwIuYNS",
        "outputId": "319cd5bf-6670-4824-c562-240e3c88fc57"
      },
      "source": [
        "aov6 = mixed_anova(dv='total_session', between='risk',\n",
        "                  within='time-period',subject='user_id', data=df_all)\n",
        "print(aov6)"
      ],
      "execution_count": 98,
      "outputs": [
        {
          "output_type": "stream",
          "text": [
            "        Source             SS  DF1  DF2  ...          F     p-unc       np2  eps\n",
            "0         risk  309191.602500    1  298  ...  14.331535  0.000185  0.045886  NaN\n",
            "1  time-period   18603.801667    1  298  ...   4.584683  0.033070  0.015152  1.0\n",
            "2  Interaction     777.480278    1  298  ...   0.191601  0.661905  0.000643  NaN\n",
            "\n",
            "[3 rows x 9 columns]\n"
          ],
          "name": "stdout"
        }
      ]
    },
    {
      "cell_type": "code",
      "metadata": {
        "colab": {
          "base_uri": "https://localhost:8080/",
          "height": 279
        },
        "id": "xZuWocPKDydE",
        "outputId": "a45a57a0-6204-4a07-98b0-83046cbf3d24"
      },
      "source": [
        "fig = interaction_plot(df_all['risk'],df_all['time-period'],df_all['total_session'],\n",
        "                       colors=['red','blue'], markers=['D','^'], ms=10)\n",
        "plt.show()"
      ],
      "execution_count": null,
      "outputs": [
        {
          "output_type": "display_data",
          "data": {
            "image/png": "[encoded data removed]",
            "text/plain": [
              "<Figure size 432x288 with 1 Axes>"
            ]
          },
          "metadata": {
            "tags": [],
            "needs_background": "light"
          }
        }
      ]
    },
    {
      "cell_type": "markdown",
      "metadata": {
        "id": "xge6czkXntWs"
      },
      "source": [
        "#### Total Tracks"
      ]
    },
    {
      "cell_type": "code",
      "metadata": {
        "colab": {
          "base_uri": "https://localhost:8080/"
        },
        "id": "j3pGXOa7uc3P",
        "outputId": "cddc9ccc-c43f-4cfc-f6c2-5c9def8a17ee"
      },
      "source": [
        "aov7 = mixed_anova(dv='total_tracks', between='risk',\n",
        "                  within='time-period',subject='user_id', data=df_all)\n",
        "print(aov7)"
      ],
      "execution_count": 99,
      "outputs": [
        {
          "output_type": "stream",
          "text": [
            "        Source            SS  DF1  DF2  ...         F     p-unc       np2  eps\n",
            "0         risk  1.728997e+08    1  298  ...  3.310626  0.069837  0.010987  NaN\n",
            "1  time-period  2.521500e+05    1  298  ...  0.023497  0.878276  0.000079  1.0\n",
            "2  Interaction  1.407500e+05    1  298  ...  0.013116  0.908899  0.000044  NaN\n",
            "\n",
            "[3 rows x 9 columns]\n"
          ],
          "name": "stdout"
        }
      ]
    },
    {
      "cell_type": "code",
      "metadata": {
        "colab": {
          "base_uri": "https://localhost:8080/",
          "height": 279
        },
        "id": "J9cbilB3FCUj",
        "outputId": "24c3baf7-f961-45b6-f7e8-f6234cb5f104"
      },
      "source": [
        "fig = interaction_plot(df_all['risk'],df_all['time-period'],df_all['total_tracks'],\n",
        "                       colors=['red','blue'], markers=['D','^'], ms=10)\n",
        "plt.show()"
      ],
      "execution_count": null,
      "outputs": [
        {
          "output_type": "display_data",
          "data": {
            "image/png": "[encoded data removed]",
            "text/plain": [
              "<Figure size 432x288 with 1 Axes>"
            ]
          },
          "metadata": {
            "tags": [],
            "needs_background": "light"
          }
        }
      ]
    },
    {
      "cell_type": "markdown",
      "metadata": {
        "id": "Q1-Hmw51n2J2"
      },
      "source": [
        "#### Inertia of QPS_Q1"
      ]
    },
    {
      "cell_type": "code",
      "metadata": {
        "colab": {
          "base_uri": "https://localhost:8080/"
        },
        "id": "buSN1lti8KHg",
        "outputId": "568050d0-503e-49fa-db7f-d070f67be1fc"
      },
      "source": [
        "aov8 = mixed_anova(dv='QPS_Q1_auto', between='risk',\n",
        "                  within='time-period',subject='user_id', data=df_all)\n",
        "print(aov8)"
      ],
      "execution_count": 100,
      "outputs": [
        {
          "output_type": "stream",
          "text": [
            "        Source        SS  DF1  DF2        MS         F     p-unc       np2  eps\n",
            "0         risk  0.019885    1  298  0.019885  1.481756  0.224463  0.004948  NaN\n",
            "1  time-period  0.036931    1  298  0.036931  4.475369  0.035216  0.014796  1.0\n",
            "2  Interaction  0.001066    1  298  0.001066  0.129133  0.719587  0.000433  NaN\n"
          ],
          "name": "stdout"
        }
      ]
    },
    {
      "cell_type": "code",
      "metadata": {
        "colab": {
          "base_uri": "https://localhost:8080/",
          "height": 280
        },
        "id": "BtdapeJyFIjW",
        "outputId": "b2cee815-9014-402d-c016-70186b15a9eb"
      },
      "source": [
        "fig = interaction_plot(df_all['risk'],df_all['time-period'],df_all['QPS_Q1_auto'],\n",
        "                       colors=['red','blue'], markers=['D','^'], ms=10)\n",
        "plt.show()"
      ],
      "execution_count": 123,
      "outputs": [
        {
          "output_type": "display_data",
          "data": {
            "image/png": "[encoded data removed]",
            "text/plain": [
              "<Figure size 432x288 with 1 Axes>"
            ]
          },
          "metadata": {
            "tags": [],
            "needs_background": "light"
          }
        }
      ]
    },
    {
      "cell_type": "markdown",
      "metadata": {
        "id": "xDRbv2AKn7cW"
      },
      "source": [
        "#### Inertia of QPS_Q2"
      ]
    },
    {
      "cell_type": "code",
      "metadata": {
        "colab": {
          "base_uri": "https://localhost:8080/"
        },
        "id": "ysDw2sVM8KHs",
        "outputId": "4873dd60-c20e-4a45-8c77-b506fd7a44fa"
      },
      "source": [
        "aov9 = mixed_anova(dv='QPS_Q2_auto', between='risk',\n",
        "                  within='time-period',subject='user_id', data=df_all)\n",
        "print(aov9)"
      ],
      "execution_count": 101,
      "outputs": [
        {
          "output_type": "stream",
          "text": [
            "        Source        SS  DF1  DF2  ...         F     p-unc           np2  eps\n",
            "0         risk  0.000001    1  298  ...  0.000069  0.993370  2.321004e-07  NaN\n",
            "1  time-period  0.004933    1  298  ...  0.668367  0.414275  2.237823e-03  1.0\n",
            "2  Interaction  0.005321    1  298  ...  0.720916  0.396525  2.413342e-03  NaN\n",
            "\n",
            "[3 rows x 9 columns]\n"
          ],
          "name": "stdout"
        }
      ]
    },
    {
      "cell_type": "code",
      "metadata": {
        "colab": {
          "base_uri": "https://localhost:8080/",
          "height": 279
        },
        "id": "yqLEw5PfOeUX",
        "outputId": "2753bd1a-5d1e-44fb-d383-e03ab53ca6d4"
      },
      "source": [
        "fig = interaction_plot(df_all['risk'],df_all['time-period'],df_all['QPS_Q2_auto'],\n",
        "                       colors=['red','blue'], markers=['D','^'], ms=10)\n",
        "plt.show()"
      ],
      "execution_count": 127,
      "outputs": [
        {
          "output_type": "display_data",
          "data": {
            "image/png": "[encoded data removed]",
            "text/plain": [
              "<Figure size 432x288 with 1 Axes>"
            ]
          },
          "metadata": {
            "tags": [],
            "needs_background": "light"
          }
        }
      ]
    },
    {
      "cell_type": "markdown",
      "metadata": {
        "id": "_3CWj2nbn-Ug"
      },
      "source": [
        "#### Inertia of QPS_Q3"
      ]
    },
    {
      "cell_type": "code",
      "metadata": {
        "colab": {
          "base_uri": "https://localhost:8080/"
        },
        "id": "odVBLDsR8KHs",
        "outputId": "c00a9fdb-b32c-47b2-93ec-779bc84e72dd"
      },
      "source": [
        "aov10 = mixed_anova(dv='QPS_Q3_auto', between='risk',\n",
        "                  within='time-period',subject='user_id', data=df_all)\n",
        "print(aov10)"
      ],
      "execution_count": 102,
      "outputs": [
        {
          "output_type": "stream",
          "text": [
            "        Source        SS  DF1  DF2        MS         F     p-unc       np2  eps\n",
            "0         risk  0.000011    1  298  0.000011  0.000651  0.979659  0.000002  NaN\n",
            "1  time-period  0.021393    1  298  0.021393  2.284421  0.131739  0.007608  1.0\n",
            "2  Interaction  0.043254    1  298  0.043254  4.618945  0.032426  0.015263  NaN\n"
          ],
          "name": "stdout"
        }
      ]
    },
    {
      "cell_type": "code",
      "metadata": {
        "colab": {
          "base_uri": "https://localhost:8080/",
          "height": 279
        },
        "id": "tO4OrVGoFbHD",
        "outputId": "2e7dc665-b31a-4e41-ec7c-fa88537947d0"
      },
      "source": [
        "fig = interaction_plot(df_all['risk'],df_all['time-period'],df_all['QPS_Q3_auto'],\n",
        "                       colors=['red','blue'], markers=['D','^'], ms=10)\n",
        "plt.show()"
      ],
      "execution_count": 125,
      "outputs": [
        {
          "output_type": "display_data",
          "data": {
            "image/png": "[encoded data removed]",
            "text/plain": [
              "<Figure size 432x288 with 1 Axes>"
            ]
          },
          "metadata": {
            "tags": [],
            "needs_background": "light"
          }
        }
      ]
    },
    {
      "cell_type": "markdown",
      "metadata": {
        "id": "ULzz7qxhoAOC"
      },
      "source": [
        "#### Inertia of QPS_Q4"
      ]
    },
    {
      "cell_type": "code",
      "metadata": {
        "colab": {
          "base_uri": "https://localhost:8080/"
        },
        "id": "i-8Lwyos8KHt",
        "outputId": "40bfea20-01c4-4db8-8859-c213f21bc4ad"
      },
      "source": [
        "aov11 = mixed_anova(dv='QPS_Q4_auto', between='risk',\n",
        "                  within='time-period',subject='user_id', data=df_all)\n",
        "print(aov11)"
      ],
      "execution_count": 103,
      "outputs": [
        {
          "output_type": "stream",
          "text": [
            "        Source        SS  DF1  DF2        MS         F     p-unc       np2  eps\n",
            "0         risk  0.000505    1  298  0.000505  0.037109  0.847375  0.000125  NaN\n",
            "1  time-period  0.035776    1  298  0.035776  3.272817  0.071444  0.010863  1.0\n",
            "2  Interaction  0.007993    1  298  0.007993  0.731228  0.393172  0.002448  NaN\n"
          ],
          "name": "stdout"
        }
      ]
    },
    {
      "cell_type": "code",
      "metadata": {
        "colab": {
          "base_uri": "https://localhost:8080/",
          "height": 279
        },
        "id": "4iFISSR-F79i",
        "outputId": "d0880662-f4da-4db5-866d-7c54b2829865"
      },
      "source": [
        "fig = interaction_plot(df_all['risk'],df_all['time-period'],df_all['QPS_Q4_auto'],\n",
        "                       colors=['red','blue'], markers=['D','^'], ms=10)\n",
        "plt.show()"
      ],
      "execution_count": 126,
      "outputs": [
        {
          "output_type": "display_data",
          "data": {
            "image/png": "[encoded data removed]",
            "text/plain": [
              "<Figure size 432x288 with 1 Axes>"
            ]
          },
          "metadata": {
            "tags": [],
            "needs_background": "light"
          }
        }
      ]
    }
  ]
}