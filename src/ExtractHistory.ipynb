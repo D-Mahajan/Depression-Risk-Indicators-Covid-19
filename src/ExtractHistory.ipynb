{
 "cells": [
  {
   "cell_type": "code",
   "execution_count": 197,
   "metadata": {
    "collapsed": true
   },
   "outputs": [],
   "source": [
    "#Importing neccessary libraries\n",
    "import pylast\n",
    "import pickle\n",
    "import calendar\n",
    "import datetime as dt\n",
    "import csv"
   ]
  },
  {
   "cell_type": "code",
   "execution_count": 198,
   "metadata": {
    "collapsed": true
   },
   "outputs": [],
   "source": [
    "#usernames = ['monkeyeason','bytrollinxon','schrammtheram','Pedro_Domingues','YannikTK']"
   ]
  },
  {
   "cell_type": "code",
   "execution_count": 199,
   "metadata": {},
   "outputs": [],
   "source": [
    "# Function for creating a test pickle file containing usernames\n",
    "# def createTestPickleFile(usernames):\n",
    "#     db = {} \n",
    "#     db['username'] = usernames\n",
    "#     dbfile = open('NamesPickle','ab') \n",
    "#     # source, destination \n",
    "#     pickle.dump(db, dbfile)                      \n",
    "#     dbfile.close()  "
   ]
  },
  {
   "cell_type": "code",
   "execution_count": 200,
   "metadata": {
    "collapsed": true
   },
   "outputs": [],
   "source": [
    "#createTestPickleFile(usernames)"
   ]
  },
  {
   "cell_type": "code",
   "execution_count": 201,
   "metadata": {},
   "outputs": [],
   "source": [
    "#Function for creating a test pickle file containing usernames \n",
    "#Will be modified for actual pickle file \n",
    "def loadPickleFile(name):\n",
    "    dbfile = open(name, 'rb')      \n",
    "    db = pickle.load(dbfile) \n",
    "    name_dict = {}\n",
    "    for keys in db: \n",
    "        if (keys == 'username'): \n",
    "            names = db[keys] \n",
    "    dbfile.close()\n",
    "    return names"
   ]
  },
  {
   "cell_type": "code",
   "execution_count": 216,
   "metadata": {
    "collapsed": true
   },
   "outputs": [],
   "source": [
    "# Kindly enter your private API_KEY, API_SECRET, username, and password\n",
    "API_KEY = \"\"  \n",
    "API_SECRET = \"\"\n",
    "username = \"\"\n",
    "password_hash = pylast.md5(\"\")"
   ]
  },
  {
   "cell_type": "code",
   "execution_count": 203,
   "metadata": {
    "collapsed": true
   },
   "outputs": [],
   "source": [
    "network = pylast.LastFMNetwork(\n",
    "    api_key=API_KEY,\n",
    "    api_secret=API_SECRET,\n",
    "    username=username,\n",
    "    password_hash=password_hash,\n",
    ")"
   ]
  },
  {
   "cell_type": "code",
   "execution_count": 204,
   "metadata": {},
   "outputs": [],
   "source": [
    "#Kindly enter your own pickle file and if needed modify loadPickleFile\n",
    "user_list = loadPickleFile('NamesPickle')"
   ]
  },
  {
   "cell_type": "code",
   "execution_count": 205,
   "metadata": {},
   "outputs": [
    {
     "name": "stdout",
     "output_type": "stream",
     "text": [
      "['monkeyeason', 'bytrollinxon', 'schrammtheram', 'Pedro_Domingues', 'YannikTK']\n"
     ]
    }
   ],
   "source": [
    "print(user_list)"
   ]
  },
  {
   "cell_type": "code",
   "execution_count": 206,
   "metadata": {
    "collapsed": true
   },
   "outputs": [],
   "source": [
    "# Function creates a user history csv file \n",
    "def write_history_csv(file_name, content):\n",
    "    with open(file_name+'.csv','w+', newline='') as csvfile:\n",
    "        filewriter = csv.writer(csvfile, delimiter=',')\n",
    "        filewriter.writerow(['artist','artist_mbid','album','album_mbid','track','track_mbid','timestamp','datetime'])\n",
    "        #for row in content:\n",
    "        filewriter.writerows(content)"
   ]
  },
  {
   "cell_type": "code",
   "execution_count": 207,
   "metadata": {
    "collapsed": true
   },
   "outputs": [],
   "source": [
    "#Tag_heading to be inserted at top of tag csv\n",
    "tag_heading = [\"TrackName\",\"ArtistName\", \"Playcount\"]\n",
    "for i in range(1,51):\n",
    "    tag_heading.append(\"Tag\"+str(i))\n",
    "    tag_heading.append(\"TagWeight\"+str(i))\n",
    "\n",
    "#Function creates a csv file containing user tag for all tracks              \n",
    "def write_tag_csv(file_name, content):\n",
    "    with open(file_name+'_tag.csv','w+', newline='') as csvfile:\n",
    "        filewriter = csv.writer(csvfile, delimiter=',')\n",
    "        filewriter.writerow(tag_heading)\n",
    "        filewriter.writerows(content)"
   ]
  },
  {
   "cell_type": "code",
   "execution_count": 208,
   "metadata": {
    "collapsed": true
   },
   "outputs": [],
   "source": [
    "#Function used to get tag details from tracks\n",
    "def write_tag_details(username,artist_list):\n",
    "    tag_content = []\n",
    "    for item in artist_list:\n",
    "        if(item[0] != None and item[1] != None):\n",
    "            track = network.get_track(item[0],item[1])\n",
    "            playcount = track.get_playcount()\n",
    "            topTags = track.get_top_tags(limit=50)\n",
    "            tag_row = [title,artist,playcount]\n",
    "            for x in topTags:\n",
    "                tag_row.append(x.item)\n",
    "                tag_row.append(x.weight)\n",
    "            tag_content.append(tag_row)\n",
    "    write_tag_csv(username,tag_content)"
   ]
  },
  {
   "cell_type": "code",
   "execution_count": 209,
   "metadata": {},
   "outputs": [],
   "source": [
    "#Function for finding user listening data for provided timespan\n",
    "def generate_data_timespan(user_list,start,end,path):\n",
    "    #Converting to time to UTC time zone\n",
    "    utc_start = calendar.timegm(start.utctimetuple())\n",
    "    utc_end = calendar.timegm(end.utctimetuple())\n",
    "    \n",
    "    for name in user_list:\n",
    "        lastfm_user = network.get_user(name)\n",
    "        tracks = lastfm_user.get_recent_tracks(time_from=utc_start, time_to=utc_end)\n",
    "        user_tracks_history = []\n",
    "        artist_list = []\n",
    "        \n",
    "        for track in tracks:\n",
    "            track_mbid = None\n",
    "            album_name = None\n",
    "            artist_name = None\n",
    "            album_mbid = None\n",
    "            artist_mbid = None\n",
    "            artist = None \n",
    "            title = None \n",
    "            album = None \n",
    "\n",
    "            if(track.track != None):\n",
    "                track_mbid = track.track.get_mbid()\n",
    "                title = track.track.get_title(properly_capitalized=True)\n",
    "            if(track.album != None):\n",
    "                album_name = track.album\n",
    "\n",
    "\n",
    "            if(track.track.artist.name != None):\n",
    "                artist_name = track.track.artist.name\n",
    "                artist = network.get_artist(artist_name)\n",
    "                artist_mbid = artist.get_mbid()\n",
    "\n",
    "            if(album_name != None and artist_name != None ):\n",
    "                album = network.get_album(artist_name,album_name)\n",
    "                album_mbid = album.get_mbid()\n",
    "\n",
    "\n",
    "            track_list = []\n",
    "            track_list.append(artist_name) \n",
    "            track_list.append(artist_mbid)\n",
    "            track_list.append(album_name)\n",
    "            track_list.append(album_mbid)\n",
    "            track_list.append(title)\n",
    "            track_list.append(track_mbid)\n",
    "            track_list.append(track.timestamp)\n",
    "            track_list.append(track.playback_date)\n",
    "            \n",
    "            user_tracks_history.append(track_list)\n",
    "            artist_list.append([artist_name,title])\n",
    "            \n",
    "        write_history_csv(path+'/'+name,user_tracks_history)\n",
    "        write_tag_details(path+'/'+name,artist_list)"
   ]
  },
  {
   "cell_type": "code",
   "execution_count": 210,
   "metadata": {},
   "outputs": [],
   "source": [
    "# sample_track = network.get_track('Broilers','Tanzt Du Noch Einmal Mit Mir?')\n",
    "# count = sample_track.get_playcount()\n",
    "# print(count)"
   ]
  },
  {
   "cell_type": "code",
   "execution_count": 211,
   "metadata": {
    "collapsed": true
   },
   "outputs": [],
   "source": [
    "start_pre_covid = dt.datetime(2019, 9, 1, 0, 0)\n",
    "end_pre_covid = dt.datetime(2020, 3, 1, 0, 0)\n",
    "\n",
    "start_during_covid = dt.datetime(2020, 3, 1, 0, 0)\n",
    "end_during_covid = dt.datetime(2020, 9, 1, 0, 0)"
   ]
  },
  {
   "cell_type": "code",
   "execution_count": 213,
   "metadata": {},
   "outputs": [],
   "source": [
    "generate_data_timespan(user_list,start_pre_covid,end_pre_covid,'./Pre')"
   ]
  },
  {
   "cell_type": "code",
   "execution_count": 214,
   "metadata": {
    "collapsed": true
   },
   "outputs": [],
   "source": [
    "generate_data_timespan(user_list,start_during_covid,end_during_covid,'./Dur')"
   ]
  },
  {
   "cell_type": "code",
   "execution_count": null,
   "metadata": {
    "collapsed": true
   },
   "outputs": [],
   "source": []
  }
 ],
 "metadata": {
  "kernelspec": {
   "display_name": "Python 3",
   "language": "python",
   "name": "python3"
  },
  "language_info": {
   "codemirror_mode": {
    "name": "ipython",
    "version": 3
   },
   "file_extension": ".py",
   "mimetype": "text/x-python",
   "name": "python",
   "nbconvert_exporter": "python",
   "pygments_lexer": "ipython3",
   "version": "3.6.1"
  }
 },
 "nbformat": 4,
 "nbformat_minor": 2
}
