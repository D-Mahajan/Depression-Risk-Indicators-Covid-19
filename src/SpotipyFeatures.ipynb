{
  "nbformat": 4,
  "nbformat_minor": 0,
  "metadata": {
    "colab": {
      "name": "SpotipyFeatures.ipynb",
      "provenance": [],
      "collapsed_sections": [
        "XMi9KNPip6jc",
        "5XN1UPTlp-id",
        "BR1BYRHkqEWn",
        "ETW3ln5YqRCj",
        "lOUHJOJnqguW",
        "sAHdTvEXqtYV",
        "dEBbRm_HrB8P",
        "E0AoGnoBqxwB"
      ]
    },
    "kernelspec": {
      "display_name": "Python 3",
      "name": "python3"
    },
    "language_info": {
      "name": "python"
    }
  },
  "cells": [
    {
      "cell_type": "markdown",
      "metadata": {
        "id": "zjpjPMY8pvc6"
      },
      "source": [
        "**Acoustic Feature Extraction from Spotify API using spotipy**"
      ]
    },
    {
      "cell_type": "markdown",
      "metadata": {
        "id": "XMi9KNPip6jc"
      },
      "source": [
        "### Install spotipy"
      ]
    },
    {
      "cell_type": "code",
      "metadata": {
        "colab": {
          "base_uri": "https://localhost:8080/"
        },
        "id": "VH5nSCfNSwDk",
        "outputId": "d16d1673-8a5a-4a8b-c1df-e24b7a0735b6"
      },
      "source": [
        "!pip install spotipy"
      ],
      "execution_count": null,
      "outputs": [
        {
          "output_type": "stream",
          "text": [
            "Collecting spotipy\n",
            "  Downloading https://files.pythonhosted.org/packages/02/9b/25b96cd2f1e2174ac787099b386e2afd427bf78dfb11e1c5857affc3409d/spotipy-2.18.0-py3-none-any.whl\n",
            "Collecting urllib3>=1.26.0\n",
            "\u001b[?25l  Downloading https://files.pythonhosted.org/packages/09/c6/d3e3abe5b4f4f16cf0dfc9240ab7ce10c2baa0e268989a4e3ec19e90c84e/urllib3-1.26.4-py2.py3-none-any.whl (153kB)\n",
            "\u001b[K     |████████████████████████████████| 153kB 8.0MB/s \n",
            "\u001b[?25hCollecting requests>=2.25.0\n",
            "\u001b[?25l  Downloading https://files.pythonhosted.org/packages/29/c1/24814557f1d22c56d50280771a17307e6bf87b70727d975fd6b2ce6b014a/requests-2.25.1-py2.py3-none-any.whl (61kB)\n",
            "\u001b[K     |████████████████████████████████| 61kB 4.4MB/s \n",
            "\u001b[?25hRequirement already satisfied: six>=1.15.0 in /usr/local/lib/python3.7/dist-packages (from spotipy) (1.15.0)\n",
            "Requirement already satisfied: idna<3,>=2.5 in /usr/local/lib/python3.7/dist-packages (from requests>=2.25.0->spotipy) (2.10)\n",
            "Requirement already satisfied: chardet<5,>=3.0.2 in /usr/local/lib/python3.7/dist-packages (from requests>=2.25.0->spotipy) (3.0.4)\n",
            "Requirement already satisfied: certifi>=2017.4.17 in /usr/local/lib/python3.7/dist-packages (from requests>=2.25.0->spotipy) (2020.12.5)\n",
            "\u001b[31mERROR: google-colab 1.0.0 has requirement requests~=2.23.0, but you'll have requests 2.25.1 which is incompatible.\u001b[0m\n",
            "\u001b[31mERROR: datascience 0.10.6 has requirement folium==0.2.1, but you'll have folium 0.8.3 which is incompatible.\u001b[0m\n",
            "Installing collected packages: urllib3, requests, spotipy\n",
            "  Found existing installation: urllib3 1.24.3\n",
            "    Uninstalling urllib3-1.24.3:\n",
            "      Successfully uninstalled urllib3-1.24.3\n",
            "  Found existing installation: requests 2.23.0\n",
            "    Uninstalling requests-2.23.0:\n",
            "      Successfully uninstalled requests-2.23.0\n",
            "Successfully installed requests-2.25.1 spotipy-2.18.0 urllib3-1.26.4\n"
          ],
          "name": "stdout"
        }
      ]
    },
    {
      "cell_type": "markdown",
      "metadata": {
        "id": "5XN1UPTlp-id"
      },
      "source": [
        "### Import Libraries "
      ]
    },
    {
      "cell_type": "code",
      "metadata": {
        "id": "CLUZO-TuSkBJ"
      },
      "source": [
        "import spotipy\n",
        "from spotipy.oauth2 import SpotifyClientCredentials\n",
        "import json\n",
        "import pickle\n",
        "import calendar\n",
        "import datetime as dt\n",
        "import csv\n",
        "import os \n",
        "import pandas as pd\n",
        "import numpy as np\n",
        "import json"
      ],
      "execution_count": null,
      "outputs": []
    },
    {
      "cell_type": "markdown",
      "metadata": {
        "id": "BR1BYRHkqEWn"
      },
      "source": [
        "### Pass your spotify client id and spotify client secret key"
      ]
    },
    {
      "cell_type": "code",
      "metadata": {
        "id": "PwbLbBRcSvA5"
      },
      "source": [
        "SPOTIPY_CLIENT_ID=''\n",
        "SPOTIPY_CLIENT_SECRET=''\n",
        "client_credentials_manager = SpotifyClientCredentials(client_id=SPOTIPY_CLIENT_ID, client_secret=SPOTIPY_CLIENT_SECRET)\n",
        "sp = spotipy.Spotify(client_credentials_manager=client_credentials_manager)"
      ],
      "execution_count": null,
      "outputs": []
    },
    {
      "cell_type": "markdown",
      "metadata": {
        "id": "ETW3ln5YqRCj"
      },
      "source": [
        "### Function to Get Track ID using track and artist name"
      ]
    },
    {
      "cell_type": "code",
      "metadata": {
        "id": "JjHYg3ZTVG3e"
      },
      "source": [
        "def get_track_id(track,artist):\n",
        "    query = f\"track:{track} artist:{artist}\"\n",
        "    track_data = sp.search(q=query, type='track', limit=1)\n",
        "    items = track_data['tracks']['items']\n",
        "    if not items:\n",
        "        #print(f'Track Not Found for artist:{artist_name} track:{track_name}')\n",
        "        return None\n",
        "    else:\n",
        "        return items[0]['id']"
      ],
      "execution_count": null,
      "outputs": []
    },
    {
      "cell_type": "code",
      "metadata": {
        "colab": {
          "base_uri": "https://localhost:8080/"
        },
        "id": "I6EsmDXcVUE7",
        "outputId": "43df75cc-2f3f-4ef5-fdc4-22109cc8d833"
      },
      "source": [
        "track_id = get_track_id('The Red Sea', 'Peter Thomas Sound Orchester')\n",
        "print(track_id)"
      ],
      "execution_count": null,
      "outputs": [
        {
          "output_type": "stream",
          "text": [
            "5s0fFpGFpvEVf9GM3S2TsE\n"
          ],
          "name": "stdout"
        }
      ]
    },
    {
      "cell_type": "markdown",
      "metadata": {
        "id": "lOUHJOJnqguW"
      },
      "source": [
        "### Function to get acoustic feature of a track using track_id"
      ]
    },
    {
      "cell_type": "code",
      "metadata": {
        "id": "0X4yaosfalzY"
      },
      "source": [
        "# \"danceability\": 0.808,\n",
        "# \"energy\": 0.626,\n",
        "# \"key\": 7,\n",
        "# \"loudness\": -12.733,\n",
        "# \"mode\": 1,\n",
        "# \"speechiness\": 0.168,\n",
        "# \"acousticness\": 0.00187,\n",
        "# \"instrumentalness\": 0.159,\n",
        "# \"liveness\": 0.376,\n",
        "# \"valence\": 0.369,\n",
        "# \"tempo\": 123.99,"
      ],
      "execution_count": null,
      "outputs": []
    },
    {
      "cell_type": "code",
      "metadata": {
        "id": "kv2qVLGYXR1Y"
      },
      "source": [
        "def get_features_by_track_ids(track_ids):\n",
        "    feature_data = sp.audio_features(tracks=track_ids)\n",
        "    list_features=[]\n",
        "    for data in feature_data:\n",
        "        if(data is not None):\n",
        "            features= []\n",
        "            features.append(data['danceability'])\n",
        "            features.append(data['energy'])\n",
        "            features.append(data['key'])\n",
        "            features.append(data['loudness'])\n",
        "            features.append(data['mode'])\n",
        "            features.append(data['speechiness'])\n",
        "            features.append(data['acousticness'])\n",
        "            features.append(data['instrumentalness'])\n",
        "            features.append(data['liveness'])\n",
        "            features.append(data['valence'])\n",
        "            features.append(data['tempo'])\n",
        "        else:\n",
        "            features=None\n",
        "        list_features.append(features)\n",
        "    return list_features"
      ],
      "execution_count": null,
      "outputs": []
    },
    {
      "cell_type": "markdown",
      "metadata": {
        "id": "sAHdTvEXqtYV"
      },
      "source": [
        "### Setting Folder for reading the files"
      ]
    },
    {
      "cell_type": "code",
      "metadata": {
        "id": "A_r4hZcQbXqv"
      },
      "source": [
        "durcovid_folder_path = '/content/drive/MyDrive/MMT_Project_Data/DurCovidData/hashed_listening_history/'\n",
        "durcovid_pickle_file = '/content/drive/MyDrive/MMT_Project_Data/durcovid_acoustic_spotipy.pkl'"
      ],
      "execution_count": null,
      "outputs": []
    },
    {
      "cell_type": "markdown",
      "metadata": {
        "id": "dEBbRm_HrB8P"
      },
      "source": [
        "### Sample code for reading and accessing a pickle file"
      ]
    },
    {
      "cell_type": "code",
      "metadata": {
        "id": "HstJTV3uoNyR"
      },
      "source": [
        "#dbfile = open('/content/drive/MyDrive/MMT_Project_Data/PreCovidData/acoustic_11d_final.pkl', 'rb')  \n",
        "# dbfile = open(durcovid_pickle_file, 'rb')    \n",
        "# #db = pickle.load(dbfile)\n",
        "# db2={}\n",
        "# while 1:\n",
        "#     try:\n",
        "#         db2_dict = pickle.load(dbfile)\n",
        "#         db2 = {**db2, **db2_dict}\n",
        "#     except EOFError:\n",
        "#         break"
      ],
      "execution_count": null,
      "outputs": []
    },
    {
      "cell_type": "code",
      "metadata": {
        "colab": {
          "base_uri": "https://localhost:8080/"
        },
        "id": "3VievAUXoNyS",
        "outputId": "54755896-ed7e-43b6-cec6-3f745e19f927"
      },
      "source": [
        "\n",
        "#stored in a dict, with key = (track_name, artist_name) and value = list of 11 features\n",
        "# count=0\n",
        "# for keys in db2:\n",
        "#     count+=1\n",
        "#     #print(keys,db[keys])\n",
        "#     #break\n",
        "# print(count)"
      ],
      "execution_count": null,
      "outputs": [
        {
          "output_type": "stream",
          "text": [
            "926615\n"
          ],
          "name": "stdout"
        }
      ]
    },
    {
      "cell_type": "code",
      "metadata": {
        "id": "i7x-CqK8egeh"
      },
      "source": [
        "# pklfile2 = open('/content/drive/MyDrive/MMT_Project_Data/DurCovidData/durcovid_acoustic_file.pkl', 'ab')\n",
        "# pickle.dump(db2,pklfile2)\n",
        "# pklfile2.close()"
      ],
      "execution_count": null,
      "outputs": []
    },
    {
      "cell_type": "markdown",
      "metadata": {
        "id": "E0AoGnoBqxwB"
      },
      "source": [
        "### Function to read user history files and extract acoustic features and write it in a pickle file "
      ]
    },
    {
      "cell_type": "code",
      "metadata": {
        "id": "WBYvXl24Ss5i"
      },
      "source": [
        "def read_track(folder_path,pickle_path):\n",
        "  track_id_set = set()\n",
        "  dict_all_tracks =db2\n",
        "  dict_batch_tracks={}\n",
        "  pkl_file = open(pickle_path, 'wb')\n",
        "  pickle.dump(dict_all_tracks, pkl_file, protocol=pickle.HIGHEST_PROTOCOL)\n",
        "  #count=0\n",
        "  file_count=0\n",
        "  for file in os.listdir(folder_path):\n",
        "    print(f'File {file_count} : {file}')\n",
        "    file_count+=1\n",
        "    if file.endswith(\".csv\"): # and file_count>417:        \n",
        "      user_history = pd.read_csv(folder_path+'/'+file)\n",
        "      for index,rows in user_history.iterrows():\n",
        "          #print(index)\n",
        "          if ((rows['track'],rows['artist']) not in dict_all_tracks):\n",
        "              track_id = get_track_id(rows['track'],rows['artist'])\n",
        "              #print((rows['track'],rows['artist']),track_id)\n",
        "              if (track_id is not None):\n",
        "                  features = get_features_by_track_ids([track_id])\n",
        "                  if (features[0] is not None):\n",
        "                    dict_batch_tracks[(rows['track'],rows['artist'])]=features[0]\n",
        "                    dict_all_tracks[(rows['track'],rows['artist'])]=features[0]\n",
        "    pickle.dump(dict_batch_tracks, pkl_file, protocol=pickle.HIGHEST_PROTOCOL)\n",
        "  return dict_all_tracks"
      ],
      "execution_count": null,
      "outputs": []
    },
    {
      "cell_type": "code",
      "metadata": {
        "colab": {
          "base_uri": "https://localhost:8080/"
        },
        "id": "o1QQouxMbxix",
        "outputId": "075acc56-de36-4afe-d46e-112eefef1ec4"
      },
      "source": [
        "feature_dict=read_track(durcovid_folder_path,durcovid_pickle_file)"
      ],
      "execution_count": null,
      "outputs": [
        {
          "output_type": "stream",
          "text": [
            "File 0 : 05157feb07f9e780637ffb96ae549365.csv\n",
            "File 1 : 06bd850533a713bb7800766860dc6e6e.csv\n",
            "File 2 : 03e7c2869742ac3b8b04a45675ab5b24.csv\n",
            "File 3 : 0538da9949fdaa2da6e5f18c0a27e146.csv\n",
            "File 4 : 03c38064fb423b47d5292bffc09785cc.csv\n",
            "File 5 : 080718a2684221573b174563e37c8f42.csv\n",
            "File 6 : 05110aecc712b5c4d62efc592507dcce.csv\n",
            "File 7 : 082ae734bd0f8399771b841e3f19f8a9.csv\n",
            "File 8 : 056d099110249e4dfc60cfc330f59f76.csv\n",
            "File 9 : 03a050d649de4bf6e489a064515e2f43.csv\n",
            "File 10 : 0274a823eec1e677645b20883a5e7897.csv\n",
            "File 11 : 04e3becfa6b8843aabcfed4e128ffff5.csv\n",
            "File 12 : 009327643adf158a3693b76e2edde04e.csv\n",
            "File 13 : 0820db544692f5180aeea5b7233c0f43.csv\n",
            "File 14 : 026c353028eefcd77442b35ce99832e0.csv\n",
            "File 15 : 0411187ec1298cca816ce3d255382242.csv\n",
            "File 16 : 05ed17d0ecc78208ba5d6a3661a9fc95.csv\n",
            "File 17 : 05a6430c0770691484aae3731acc7d23.csv\n",
            "File 18 : 049042136e9a0aab809148a6a3016de6.csv\n",
            "File 19 : 0751cf43a98df47d46d78d2925a608e2.csv\n",
            "File 20 : 05e2b286c881c6a114eb9e6b229a4cd9.csv\n",
            "File 21 : 0453c66f7618a20c674e2741ccc7a49f.csv\n",
            "File 22 : 0625622a4c9143bcd3142b8052129279.csv\n",
            "File 23 : 02944c1c293bf12539279a15d4cb5669.csv\n",
            "File 24 : 18f2dfc14d29414c9a133222c071d10d.csv\n",
            "File 25 : 20f3da7086adafce8a7adf3a85c67c7a.csv\n",
            "File 26 : 120098859dcc2b3d864e57be165a76cd.csv\n",
            "File 27 : 14070ff059d2952653eceac5520a03c5.csv\n",
            "File 28 : 13b54cae57007cc83ddbd8ff642bd5cc.csv\n",
            "File 29 : 31f9de27bc7ed293c95520384e221ddb.csv\n",
            "File 30 : 189858e94ce21d4ded33ae1a956600dd.csv\n",
            "File 31 : 1573743175758f456b6da233973f7d65.csv\n",
            "File 32 : 2bead7ef81617c7aa415148a8a84408c.csv\n",
            "File 33 : 233405fcccb7239073dc02864e61ca62.csv\n",
            "File 34 : 168cb294bca52a45f4bf392d02aa645c.csv\n",
            "File 35 : 10e09bec387d808250375a62ce011c4e.csv\n",
            "File 36 : 14c23eeaf03e220592d0ec4ecd4640ed.csv\n",
            "File 37 : 0bdc5ef605f0dd810bd1660d177bdfdf.csv\n",
            "File 38 : 15efee4d08cadfcde46441aa1a6151d7.csv\n",
            "File 39 : 271f8188533f99b5e81233c62c07a538.csv\n",
            "File 40 : 25662ef4d1093bfca8d7b5f7323f4246.csv\n",
            "File 41 : 1a33a73c4ef0a7d4b729a975907c7d5a.csv\n",
            "File 42 : 2ded65069043cf25fc1b2ee918f4851a.csv\n",
            "File 43 : 1036f795adf7f5d1c4da1b33f7413cec.csv\n",
            "File 44 : 133161a763ace88c713a695ce9300fd7.csv\n",
            "File 45 : 286df4560f8f2d0f8b300be95b1db245.csv\n",
            "File 46 : 269ede9ba29e05f7057d42cc4cb0153a.csv\n",
            "File 47 : 0cc0e42a48283430a91eebfaa39840fb.csv\n",
            "File 48 : 0d31ec6feac0f0b514817062afdc6e2f.csv\n",
            "File 49 : 14bf0e58b76abc55155db05c2bc3cc07.csv\n",
            "File 50 : 0c94a6c0e95b5201e0263fa4b3544332.csv\n",
            "File 51 : 27d0d0613dda37b8f56e12977be540a4.csv\n",
            "File 52 : 3101642f7e38f8e4c37b22f42652f3de.csv\n",
            "File 53 : 08f3e58264fc9f6b35037b740f0a25aa.csv\n",
            "File 54 : 2e7058f012f1a7fea9c41e026cb183e5.csv\n",
            "File 55 : 13d596afd4635e536e534b7c6bb32941.csv\n",
            "File 56 : 119637e574a4053037d8f704d4b36f7d.csv\n",
            "File 57 : 0e79e6f044033c604d300c9aebdf17cf.csv\n",
            "File 58 : 0ab5c44f7daa3caaec687ea9a39800bd.csv\n",
            "File 59 : 1ab13942adfee2702ce50ec8d6017867.csv\n",
            "File 60 : 2768585af23d6600f7aa50057105dc7f.csv\n",
            "File 61 : 129cd68625e2371868d868a8d0a5a290.csv\n",
            "File 62 : 1ed49bb2a87d0dbf01d52c540b165f07.csv\n",
            "File 63 : 0ff01aa88ab5f2be4f19be81ac721d35.csv\n",
            "File 64 : 2d73c03096eaf1c09197c58fe7808e93.csv\n",
            "File 65 : 2609066427263f06356f2941955e68a5.csv\n",
            "File 66 : 1d23e5ebf50e4a642ee525c68c4fce6b.csv\n",
            "File 67 : 2254efe2940acabe9f90643637687736.csv\n",
            "File 68 : 137e85cae14f5a95afdd584c454b0f71.csv\n",
            "File 69 : 21933c641166236fd05921e188993015.csv\n",
            "File 70 : 2e0194e354c544ed44fc09e01cc6ab90.csv\n",
            "File 71 : 203c93c3979d4bee308586e4f64712fd.csv\n",
            "File 72 : 1bc8474dc465d16f5c2a424b2a7427e7.csv\n",
            "File 73 : 094137d715006a421c17785efff2b7ff.csv\n",
            "File 74 : 2fe1a2176412d3a3307a28047d16dfbc.csv\n",
            "File 75 : 13dae79bec191b440f8d11e3fb6edcc9.csv\n",
            "File 76 : 0923c05376d1aede4b1f9e877b112e7a.csv\n",
            "File 77 : 1363d637bc63b2c82871518c5d40fd13.csv\n",
            "File 78 : 13b1e0b1ad9df2bf07d698a7ab581830.csv\n",
            "File 79 : 1e0c81786aba41961c7fc2ee068a1702.csv\n",
            "File 80 : 199dfbfecb197910d04f992235c248e6.csv\n",
            "File 81 : 28bc7d949bce6008b4c3e1f2b629aa24.csv\n",
            "File 82 : 124f7a4609be4e7cb2381af485fa7be7.csv\n",
            "File 83 : 1a64dbe644980abd92c3eaebde1e0502.csv\n",
            "File 84 : 13c26bddcd4cb981e3cb86c18baddb26.csv\n",
            "File 85 : 1de8a6268be8dcf3b3f2cf8575032793.csv\n",
            "File 86 : 0ce4ac973dfa9e6bda5ce0535344dc4c.csv\n",
            "File 87 : 32f9391bec65796d5ae869df0084956a.csv\n",
            "File 88 : 18fe71adbba985232eadc61dacb14887.csv\n",
            "File 89 : 33d0dcba4db8e96a46cf90a577d7f0af.csv\n",
            "File 90 : 23a0193a34d8efa46355d5250b0d978f.csv\n",
            "File 91 : 206d5987e0eaaaabe76bff7f793834a4.csv\n",
            "File 92 : 18ec6297dc5c5f0bc4c034330931b86f.csv\n",
            "File 93 : 2671fcaf2d0a4f8a98c06f7bd1401ba5.csv\n",
            "File 94 : 1f1d719327ce9bacd7e7540eecc99d6f.csv\n",
            "File 95 : 1e8353e18dd2dc3678a15277e0bc6215.csv\n",
            "File 96 : 1092f6e357a1498ce7ba2e6f76dad044.csv\n",
            "File 97 : 2bdf82895c47ce2fd668fd6369da78db.csv\n",
            "File 98 : 327f7e06db2acda1b867062e522b5872.csv\n",
            "File 99 : 30addd848b2a991dbec34981460be78c.csv\n",
            "File 100 : 2e9639611b5a2129992913a24726bea2.csv\n",
            "File 101 : 289aef77300adc9203964b501163add2.csv\n",
            "File 102 : 2ca86a5b37f7796a852655c438126740.csv\n",
            "File 103 : 205d91596bc902be28109dccc735cf6b.csv\n",
            "File 104 : 27fc6c69ac3327203039ab91ee26e7ac.csv\n",
            "File 105 : 288a99cfc51180000e8e73897ab3db72.csv\n",
            "File 106 : 584c69b43ce60da0c3c0770e8e42e6b4.csv\n",
            "File 107 : 5356aabac134c7bef960ee4185c8c4d6.csv\n",
            "File 108 : 42f5335f5b43c2ce27f428e68403480b.csv\n",
            "File 109 : 60f419e4727ab16507eb90ccbc27b07d.csv\n",
            "File 110 : 3c21430ea0ba2edf5a43cffb0be7086f.csv\n",
            "File 111 : 382e25833d2c1ac6ecb09d4ac4bd25cc.csv\n",
            "File 112 : 6169526be7352f6727870ec1a6a25823.csv\n",
            "File 113 : 4791a9b2a2447d2068a89acb05c8c25b.csv\n",
            "File 114 : 3a2cdc157c3e761cde8e7361f73098d0.csv\n",
            "File 115 : 3ae99483f8e0b14ff7c264625c96c507.csv\n",
            "File 116 : 635785519abe895954bb11a0863fd3df.csv\n",
            "File 117 : 374828034e79c74e8c8963dcd4de00d2.csv\n",
            "File 118 : 43c898207b877616f5a6ee6d5580fa3d.csv\n",
            "File 119 : 5b092d169ff059477e0332e93a80126c.csv\n",
            "File 120 : 3a4dfd524af94b26eb579d8cf11e90ad.csv\n",
            "File 121 : 4bcdbf7361077f9a2637722c723ad2c2.csv\n",
            "File 122 : 591a4721f6ed692d98a1f1b661e7a39b.csv\n",
            "File 123 : 5abdd22b70ae66cbd44cb959424b402b.csv\n",
            "File 124 : 5d683d5eae9edefee606ab24e74c636c.csv\n",
            "File 125 : 3e8703ebe6c7c7d66f5129fe22dd1b49.csv\n",
            "File 126 : 3c66bf00273154973d925869dfee8356.csv\n",
            "File 127 : 35a2c9d8d6ea953220096b04c8947b01.csv\n",
            "File 128 : 3c2640c10357011ad3b3c1f016ac3808.csv\n",
            "File 129 : 3d803903ef50f42be71f56f3fda3ee48.csv\n",
            "File 130 : 5046610151b18889680735ad34db7444.csv\n",
            "File 131 : 52ee91e83908144606ff784caad93f2f.csv\n",
            "File 132 : 3f74855ead0b81694147612c669da711.csv\n",
            "File 133 : 54e9e0ecd8304b054796cf2f8a2158b2.csv\n",
            "File 134 : 5606da6ed0df43b774e43df2c7517a46.csv\n",
            "File 135 : 60a663dbebf8bd0230f43f5907946287.csv\n",
            "File 136 : 3fb78df590b8148db47d98eb1efebc0d.csv\n",
            "File 137 : 5bd549a8e0e4e6dbd1d3ee54d4999dea.csv\n",
            "File 138 : 37959d9b36fe96bd2cea07b3be4c2f7b.csv\n",
            "File 139 : 583db46b41f04fccb5ba9ac9180e551c.csv\n",
            "File 140 : 424d6b99de8fd0a03a40c6db86d3a0a1.csv\n",
            "File 141 : 519db2e6aa51a4b7968fb0d7f1e21079.csv\n",
            "File 142 : 34f84473ae3eacd7c1ce7ffe85b0a00a.csv\n",
            "File 143 : 4f6f7827582bd6a842112fe723cfd3dc.csv\n",
            "File 144 : 3402aa7712be22d2ab4a70f08f3c246b.csv\n",
            "File 145 : 4f4cdfe5a59dc19e370d0d998f1a036a.csv\n",
            "File 146 : 372e6180caf8dc1843a0236bcce374e8.csv\n",
            "File 147 : 427ce684c7e55ae85214fa76d2521fe0.csv\n",
            "File 148 : 37311627d2ff7a93286bac36a37a6d6c.csv\n",
            "File 149 : 3c9acb63bcc3bc407dcdb765e17efa13.csv\n",
            "File 150 : 357bfdd3c09af1c99d1dc3bf9d2fb73e.csv\n",
            "File 151 : 5b18e309a41b16262f57039749dda4a2.csv\n",
            "File 152 : 4d3fc64c186d4136a8d87ff5f67e3526.csv\n",
            "File 153 : 3c09ebec28e30929dfb69c3659c15068.csv\n",
            "File 154 : 38d4be2e8cfe8ccf899cb2d8dc7ea32a.csv\n",
            "File 155 : 5facecd90925de900c8273a795008bbf.csv\n",
            "File 156 : 5fcf5d9ff2d3e333f8dc7574a6e630aa.csv\n",
            "File 157 : 5e10122b68ded685f4122ae57de8863a.csv\n",
            "File 158 : 4f084156a11239c727903e43a7f27e72.csv\n",
            "File 159 : 4f46696819f47c7978fb62400313d102.csv\n",
            "File 160 : 4803d6fc29b815ccca8d1d44e6e357fa.csv\n",
            "File 161 : 444e0e4d00117b244c9b519797e54fa8.csv\n",
            "File 162 : 34af3c848ee0b6a67b90e86a766b7788.csv\n",
            "File 163 : 429096611647c9efff217e452c2c7a43.csv\n",
            "File 164 : 5ce19d5dfc20e5224d1abf18ed4f345e.csv\n",
            "File 165 : 4e9250bd2c527712ea8123137140d40b.csv\n",
            "File 166 : 56626d2e012178af0eb873bbaa811bb1.csv\n",
            "File 167 : 5bb52c19e4743454416828908171f10f.csv\n",
            "File 168 : 3afe7a7fc64c7bf714d4ac9343e946ca.csv\n",
            "File 169 : 4117cc25ed9e31ea52821a748a357627.csv\n",
            "File 170 : 4ffb277278816d11b1efc8cf12336d8f.csv\n",
            "File 171 : 3467c08a40031698121409c14f802eb5.csv\n",
            "File 172 : 3523fe2c93f319116daad34b93413aa7.csv\n",
            "File 173 : 5fb6c6b03005ad6ab8eb300f93ab69b1.csv\n",
            "File 174 : 3ad75c8470fd0ec86d864368719b27bc.csv\n",
            "File 175 : 4213d1bd4658ae734644c971d54dbdeb.csv\n",
            "File 176 : 46878ce9abee2bc6a6e50e7869ec8aa3.csv\n",
            "File 177 : 5487415b838c83e0b858017497fa88f2.csv\n",
            "File 178 : 56a71b0dc27604fb18d1af48a3301206.csv\n",
            "File 179 : 382b66d0a7cc83ef916d8f7a2e5ebf39.csv\n",
            "File 180 : 531fda35388d25cb33d07a77457f9111.csv\n",
            "File 181 : 578847932d1a58bf6d8c377c4504022a.csv\n",
            "File 182 : 476e9d34ba0e94e49809955430225d67.csv\n",
            "File 183 : 34c3d871d60be3e2b0611c48c85ab239.csv\n",
            "File 184 : 445dcc0619da420e5bdebe22ae3ba652.csv\n",
            "File 185 : 445a86adb9552f5cbf4e0312a2614542.csv\n",
            "File 186 : 569909df2da3acb80d7137fa400fa353.csv\n",
            "File 187 : 5d0c2d3eca05b1f65750cd1cc75b4756.csv\n",
            "File 188 : 625dfae1f1a3da6e27e78d7178d55e23.csv\n",
            "File 189 : 5128dda2a312b3b012ab972e695cac3a.csv\n",
            "File 190 : 5fb17d80ece8c647b9c425db6ce000ed.csv\n",
            "File 191 : 489dae049f65869006c35c9e6ec7102a.csv\n",
            "File 192 : 53f1fe92e0f2ca2b832933a03bf39fa7.csv\n",
            "File 193 : 74baab6beca4eed466acc7f93f8b5590.csv\n",
            "File 194 : 87eabc6116821fbb2c00013962039a07.csv\n",
            "File 195 : 8f14aa43f333495ec375f71354df5691.csv\n",
            "File 196 : 929e1073f2ec54bf04e18ca8f33a1724.csv\n",
            "File 197 : 8f96d82401b1785c0c8096f69f97245c.csv\n",
            "File 198 : 6b05d212e092e8bf3dcf5ed4576cc017.csv\n",
            "File 199 : 6973010e713397d9110b5dfad40572ef.csv\n",
            "File 200 : 68a60b59156a5b66a8debbf30c0eda8d.csv\n",
            "File 201 : 95de3940bde49b98c1297f4ed7035815.csv\n",
            "File 202 : 698cfc76de71075c37728517567203d3.csv\n",
            "File 203 : 7a695b89b8b00e19a5c0ad06b2c5aaf4.csv\n",
            "File 204 : 98d611ed0c61a9648774dfe454719a36.csv\n",
            "File 205 : 7324f006218a20c9747ea00d501d3743.csv\n",
            "File 206 : 98517804e28eb1ada49c9d1ef52fca49.csv\n",
            "File 207 : 95e3447902cf3516134112f42e1c7de5.csv\n",
            "File 208 : 7a5bbf6b684118172f821789fee57f7a.csv\n",
            "File 209 : 702eeb86dbd6a5ee2cbf3cde76efae52.csv\n",
            "File 210 : 6f88cfeddd0677e078541ed5da9eecad.csv\n",
            "File 211 : 719aec94b6bcf0ce81bf23b01a68bd9b.csv\n",
            "File 212 : 87a3406d23605e198ecd38e6d354da2f.csv\n",
            "File 213 : 750715ba6428c49c05f44f6b8fc5df25.csv\n",
            "File 214 : 81751249efdfdeecf29839a37a2b63ab.csv\n",
            "File 215 : 8fffbdbc5fb7bd1d7a8da3d6f5c7179e.csv\n",
            "File 216 : 8340da27576704b69814cfb437bdbbd7.csv\n",
            "File 217 : 65e0998eac0b04cfca313298f1c0f19a.csv\n",
            "File 218 : 670bc8920f762629d7253e36f7b70b5d.csv\n",
            "File 219 : 657bf35cf940cd355e63cbee455a7284.csv\n",
            "File 220 : 66a1eb1197adf725a39f83a198fa82ac.csv\n",
            "File 221 : 96a9322c8b972b281933643238e19ca1.csv\n",
            "File 222 : 767911df152d16802015443b2097fdad.csv\n",
            "File 223 : 67f1b01707adf4f20605d792cd60653b.csv\n",
            "File 224 : 82f520f12b72d7dc9acbe394013f65fe.csv\n",
            "File 225 : 964bf523915c993f58f65ed9ac1f558c.csv\n",
            "File 226 : 88ab1ee1b7e1dadb5e791fd738ef09cb.csv\n",
            "File 227 : 698acca8d6b1faa0a76aef2ab41443be.csv\n",
            "File 228 : 8dd077ec1d17659585234f35009556ce.csv\n",
            "File 229 : 67912aa1f10b515cc2d582ed57e197cf.csv\n",
            "File 230 : 68197aaeaea55f1b43db1ec77d0c0ed9.csv\n",
            "File 231 : 93ad1166fa24cb63247c510a08afb74a.csv\n",
            "File 232 : 7eb9895824ec5b0fc6474e91b410b0b5.csv\n",
            "File 233 : 901d1e76bdd54454e497b7d10e331610.csv\n",
            "File 234 : 8c62834d9a43c2da46e4d379eafd05b7.csv\n",
            "File 235 : 6a7cc5d951ca72d2f6e88616c050670c.csv\n",
            "File 236 : 987a4c4099de551c02f0ad95ee0c3350.csv\n",
            "File 237 : 98761eed8f629c53d4675809823f4413.csv\n",
            "File 238 : 8e2f18fd5ad9f67abe5c04fd70d05a1f.csv\n",
            "File 239 : 68a0dc3ca88d9ad83926d69c0e934447.csv\n",
            "File 240 : 6ac7b2f4f34ae95c36bcecb7f66d9c65.csv\n",
            "File 241 : 94501e10d7f0ad7f707ce217ff043088.csv\n",
            "File 242 : 941f769992f52ebe04adb36784087a7a.csv\n",
            "File 243 : 8ff09095abf485b64548c017b4e10971.csv\n",
            "File 244 : 970b071aead3dc8f1535eddb8b991944.csv\n",
            "File 245 : 79966d9a31dafac32cd5520ad0a0fc9c.csv\n",
            "File 246 : 9151a7302742365d797bbef39d453941.csv\n",
            "File 247 : 7521f9b35bbed29f9814b971d0f20e81.csv\n",
            "File 248 : 90dbe83c6ae09e90496a7ffac9f7edc9.csv\n",
            "File 249 : 741f6c38bc6bbb34162c5f6adeba9f97.csv\n",
            "File 250 : 6a32946c0e77632535f146b5946e3052.csv\n",
            "File 251 : 7ad315081f7059b848d4e2e48417d3c0.csv\n",
            "File 252 : 997f983a5276e6bc8e45b9f120b0a7f7.csv\n",
            "File 253 : 8302d80df612c9f2c2bf8ba2c18c3d09.csv\n",
            "File 254 : 869c2d31ac404c2706439cf12c916bf4.csv\n",
            "File 255 : 8114615748a400bae010e69aa6a9636f.csv\n",
            "File 256 : 7b8e8728f474f2279f7dc1012a175b93.csv\n",
            "File 257 : 8cfac1cad5d49e655ca81aea766c6266.csv\n",
            "File 258 : 81c1a39b4df82b9f06f00e72bf62e1c7.csv\n",
            "File 259 : 73cde44c3b9b40db9a190ea733e2d8a7.csv\n",
            "File 260 : 838d5b549dcb12cf049aef4f0d1c582b.csv\n",
            "File 261 : 92b4e706b81a3dd8e9a8bbc0095ef6fa.csv\n",
            "File 262 : 700a688975693540b7b1e48736c1e053.csv\n",
            "File 263 : 929915d049a8e68c090dea8ac1351b72.csv\n",
            "File 264 : 6678f7ff637d772c3a1213e4fa1926f3.csv\n",
            "File 265 : 8b4f3a21d11af38e5e76a6c4a726c267.csv\n",
            "File 266 : 72e420e86f8ab99834c1ab39c4e7b344.csv\n",
            "File 267 : 81c9aab5ef6bec1c0a78e06e978f97e4.csv\n",
            "File 268 : 7f9bd84f11ed1bb058eee66293a3e643.csv\n",
            "File 269 : 93ea577278d87ff83b6146cfd672dbca.csv\n",
            "File 270 : 6eaa6a872ca83bef7c2311288289d687.csv\n",
            "File 271 : 6e91e5d95e088f01f3944ec59652a02a.csv\n",
            "File 272 : 894d0f9c88fb29a06b673d0f60020b05.csv\n",
            "File 273 : 7de8edf5ba59930a4d0e4657985b6014.csv\n",
            "File 274 : 743cd27daed27ee3781c31a615a72d85.csv\n",
            "File 275 : 7166e43a5ba1fc65e789bcbbad9c9b84.csv\n",
            "File 276 : 744da191667156d8b9f7ddafac5ce4be.csv\n",
            "File 277 : 7e1b665cee96b023b4da4ee742d273c0.csv\n",
            "File 278 : 77daa7ca91df3700ae6769956a7aa0bb.csv\n",
            "File 279 : 744089e762397143d8b65bc9526b34c9.csv\n",
            "File 280 : 749d2f27b8c8c101b289024ce967af25.csv\n",
            "File 281 : 9174e0065e7ca250fa099b0871c163ce.csv\n",
            "File 282 : 71217aa7e49eeafde30ccc28ff4c02b4.csv\n",
            "File 283 : 7867f066175423d41410f456954e19d8.csv\n",
            "File 284 : 6f72c276f028a9db69e4244ab22bcfcc.csv\n",
            "File 285 : 85456f3d853839adcb5973b5782813d5.csv\n",
            "File 286 : 9416ba03aa5fd9bbe11771725cdc8818.csv\n",
            "File 287 : 6d9ae8b060752538d4758cdd6eba34e7.csv\n",
            "File 288 : 7235bbb45f31b95a0bf5bd7385722059.csv\n",
            "File 289 : 760d44ade02135aa877a37274d21e701.csv\n",
            "File 290 : 840df3385d8bf85789b4f3a18acfb9f6.csv\n",
            "File 291 : 6993510ffccb306f4d70ae1466e5e205.csv\n",
            "File 292 : 69ddf5bbdd015faff0b04252e23d8a55.csv\n",
            "File 293 : 847699511091e39934bc6bef66d92c42.csv\n",
            "File 294 : 6c985f64b75c0b4782fd541ee116ba66.csv\n",
            "File 295 : 9e953f7ea7b5e13134587a2f66acba38.csv\n",
            "File 296 : d3484ab0c214b21c4b15a6529fdc5c13.csv\n",
            "File 297 : 9d2b1c16fd477631db09dc6c0ce4c455.csv\n",
            "File 298 : a384c08f1ae51c6592dfebef6f4f8933.csv\n",
            "File 299 : a3d349d2e491c8233c36ab542c31e295.csv\n",
            "File 300 : c465944741487456b77f7350d93d2209.csv\n",
            "File 301 : c6ba085f9ec359bc73fb4b2134d6995b.csv\n",
            "File 302 : c90d2a8efebefeed59fc55039108aba1.csv\n",
            "File 303 : d1511c19760f6f94d78ee934075b9efb.csv\n",
            "File 304 : a3ddd29976d47cf4b45b8bca260e732e.csv\n",
            "File 305 : cdf4b68937199326e807fe95a41c88ec.csv\n",
            "File 306 : a890c6ddef9cbfeac5ac0dbb6204eb93.csv\n",
            "File 307 : ab38a5ab958bc04bce7255f9d0754955.csv\n",
            "File 308 : a425fef722bab4faf3e2d840112b1a21.csv\n",
            "File 309 : d4019b4cdc985380c740aca4d5de083c.csv\n",
            "File 310 : cf633c782e8f149a779f733950962fef.csv\n",
            "File 311 : cc6f439366c6bf9de6817def867affab.csv\n",
            "File 312 : ae46f4033993b2b2774210f74f915145.csv\n",
            "File 313 : cf664f7ed16413dc7c8433f0e7ed2cf8.csv\n",
            "File 314 : cbdf8c13ba2503c48177e7e9326b6a99.csv\n",
            "File 315 : b0637349ccc6fc672bb1d6916c112532.csv\n",
            "File 316 : d23232d9c2b6016827ab41de83188003.csv\n",
            "File 317 : ca90696d53101887ad08e90ca5fa4d33.csv\n",
            "File 318 : 9a0d08835d6e22c80601e8aa5d647cf2.csv\n",
            "File 319 : a0cd4ab80052aeacfc00081fbc6d6384.csv\n",
            "File 320 : c6f5a256200b9582caa459b1053816d7.csv\n",
            "File 321 : a8670173dd7e06ceda4ba9460629f694.csv\n",
            "File 322 : ce556670b0c40b5aee75a9291b425ee6.csv\n",
            "File 323 : d13f612218c46777b1ddab9daf698278.csv\n",
            "File 324 : ab4b96602e876d14d49e9180fb3fa147.csv\n",
            "File 325 : c96888165466ae52f451ca8d78162ce9.csv\n",
            "File 326 : d358bbc9233b3f914fe8842cc257f1b2.csv\n",
            "File 327 : c517f8f9efaa1b74ab551cb04934d664.csv\n",
            "File 328 : bdea1ab5d6955b16d00acd9bae7358a3.csv\n",
            "File 329 : a7b8e73ed74ec606c36b154a45ff900c.csv\n",
            "File 330 : bcdd0d5c92d63b031eabf011bdb8b46c.csv\n",
            "File 331 : c2789a7fe6d89f0571450943b0fb359b.csv\n",
            "File 332 : aa5faa3ec32c2d9e56ac7d328cc5a717.csv\n",
            "File 333 : cbe957e057229efd9492d5869d834744.csv\n",
            "File 334 : a567b297e78a273fddea3ed9fb6ffa38.csv\n",
            "File 335 : abc2fc2b474b10d0532f46bd75d3ea1f.csv\n",
            "File 336 : beb6b94b7a2de6fa238053cea304391a.csv\n",
            "File 337 : cb9b46bbcf0817cdebaccfc181a5609f.csv\n",
            "File 338 : cf4a8df3f7a49342be0de2369d7c663b.csv\n",
            "File 339 : a21ee741f8dfa332b639e4f8ed286910.csv\n",
            "File 340 : bca0364e32fc6145c1b9c7c3b97c83b0.csv\n",
            "File 341 : 9d0993ecfcfccbb2634305b89e11deb8.csv\n",
            "File 342 : 9eb66e9e785171c1166399ce2f6f645a.csv\n",
            "File 343 : 9edb466e5dab624110e2aaecb776a6e5.csv\n",
            "File 344 : c772046c6eaec4dd174149cc15695915.csv\n",
            "File 345 : b11d87e16c361dcdd432d4d823ba517c.csv\n",
            "File 346 : a687b5300f971f7a0ddfe98786f90d90.csv\n",
            "File 347 : bd71c98e6b3aecead72ead3cc4aecc55.csv\n",
            "File 348 : d0c8c48b36809c92034d6f3b8d563bcf.csv\n",
            "File 349 : a0d81eb2343d1b7efc7a3322cf6a0f55.csv\n",
            "File 350 : a541c4bb9609ba9e0ec9fd3f14dc00a4.csv\n",
            "File 351 : 99e12b565d23f1db23faa12bcae035e2.csv\n",
            "File 352 : 9da012347ea4bf20f81192159bae4ef6.csv\n",
            "File 353 : c535930be2fc93035c1273b129bb793c.csv\n",
            "File 354 : b9aa5cd48e9c56d21a361c388a1fc393.csv\n",
            "File 355 : ab2bd9762b6e44521e1e2f175d5aa3f8.csv\n",
            "File 356 : ce1b39219b3361ef4f7f7fe482495bd3.csv\n",
            "File 357 : b2e05c8bfdc7791055a3ec83d1aeb7d4.csv\n",
            "File 358 : a0efb644857b763f0f5144d0c1e9ffd0.csv\n",
            "File 359 : c4a8146ce06803768d0b598963f3859c.csv\n",
            "File 360 : aa1ebffa0260d143ca7eae261082cfac.csv\n",
            "File 361 : a1b608ed51f483aab0ff7f190e1b6f8a.csv\n",
            "File 362 : a4bff9cad43c6d8fb92823595502ae8d.csv\n",
            "File 363 : afc70f9aec7c6d9445eb5ba8414d67c6.csv\n",
            "File 364 : d24112edae994adae0756bdd538dae89.csv\n",
            "File 365 : b7ad06f83e900ed2ea29f7289e6dfcaa.csv\n",
            "File 366 : b5eddeb5ceeb362b50f06a61cba0b4f9.csv\n",
            "File 367 : c290c20f35ef09845faa90fdb6030fbe.csv\n",
            "File 368 : d04250fa2fc6b95c7ba2c71e373475a9.csv\n",
            "File 369 : ab120cbcd295140a191e791c3663e45e.csv\n",
            "File 370 : b70deb69ec780c268c3c0c4beb068acf.csv\n",
            "File 371 : bef5a370ccab4cf1405dfc6bbd5ad3a0.csv\n",
            "File 372 : cebe7bb75898cb69fe9bb992d10cf954.csv\n",
            "File 373 : ac3f4b5ddb8e149fe47ac049b8e0fd55.csv\n",
            "File 374 : a61497cee3b69e38863c0bab019d18fd.csv\n",
            "File 375 : c4f694bbab2487b776e57bd9739cca4e.csv\n",
            "File 376 : b7030e6727f00a29fbf9e77635d563f0.csv\n",
            "File 377 : 9aa355c7f075380a6f476b3bb8145a80.csv\n",
            "File 378 : cda802621b902dbca06cfb8968f59b0a.csv\n",
            "File 379 : b6d0baa1d5483ccb37569453794879a0.csv\n",
            "File 380 : 9c2df4e712ee5c429b869eb6f7831cfb.csv\n",
            "File 381 : c057048cb1cfde9ee007750d5f345865.csv\n",
            "File 382 : ce268736d4fe060a27d64bfcf3de78ec.csv\n",
            "File 383 : b4f7ee880fda5fe35a75bde91cf366e0.csv\n",
            "File 384 : c9b78ff22dd29606207daab0a0f7c2a0.csv\n",
            "File 385 : a47c300ee71cd388a02f4e4e8830b112.csv\n",
            "File 386 : 9994d32da50698959caf7153acb55db7.csv\n",
            "File 387 : d184672d356250904f1ddf0fb1f6be0c.csv\n",
            "File 388 : c2e59d49a76190d83d0c6d3a3682c4a3.csv\n",
            "File 389 : cb0724a54d8d91c42c5fe5aa21b9171f.csv\n",
            "File 390 : c835461480d852959a1642f308f274ba.csv\n",
            "File 391 : c5132eda6af28d5491da2032af197da3.csv\n",
            "File 392 : c77f49f3de1a58b4b9d319e4d201ebf8.csv\n",
            "File 393 : ba37fed21887e81e34946224611c404b.csv\n",
            "File 394 : a426d0fb6c3f7edb63370b9bcc820bca.csv\n",
            "File 395 : cda4fe645bed22b3615f67b5f6dbb342.csv\n",
            "File 396 : d125a06735486fa936de1f856e01bbb4.csv\n",
            "File 397 : abc1e10f2ec33174eee147c3d0cf7b86.csv\n",
            "File 398 : b1a45b85a39d661e7984794103156dc3.csv\n",
            "File 399 : bc3d08a0db094f4b80c8f3e3fbe69252.csv\n",
            "File 400 : a0b77810434f05990ff218de682c2b91.csv\n",
            "File 401 : 9e4b2a51f8bc1bae5bca92d970dddf0b.csv\n",
            "File 402 : c253543524a52e3c819b841ed9618b24.csv\n",
            "File 403 : cbe77450da5b5b50e4eb667abfdbec15.csv\n",
            "File 404 : bbb7b2eb495e65a85a60dbf5d8753e17.csv\n",
            "File 405 : 9eea92327137c7480fba6f097c425127.csv\n",
            "File 406 : e72b6ac388bd691f7d0476537115cf0d.csv\n",
            "File 407 : dedb63ddd8c1370042633fbf5d0101b4.csv\n",
            "File 408 : db3e025992f31b30213bf991fb754092.csv\n",
            "File 409 : e6600e973729d6039fd63046b408195d.csv\n",
            "File 410 : db7357f3cc77813ec9b40ff35942f520.csv\n",
            "File 411 : e72c6b5617af1ee7e2035b59d351cd91.csv\n",
            "File 412 : e277a174d445b5ac05fefb5869adfbcf.csv\n",
            "File 413 : e260ea04912d01a70285922af8c063ea.csv\n",
            "File 414 : da131a6b53e85bdfba02685779f472cf.csv\n",
            "File 415 : de47805ae880f2503b7c27e6814ec1df.csv\n",
            "File 416 : dea4cb8ea81229dd99ef383cf48b1cc1.csv\n",
            "File 417 : d503f30517e229d2120f6ac672a579b3.csv\n",
            "File 418 : dc023b8e884f1f2be938366e7af7de8d.csv\n",
            "File 419 : e17d5af411790d6607d5c12059ec6c06.csv\n",
            "File 420 : d90d63bb025cf4b9d4aa3257a036dee0.csv\n",
            "File 421 : db47f241439990bfe38de83716c064d5.csv\n",
            "File 422 : e29da5a9d126a9d045d979386c6b55ef.csv\n",
            "File 423 : de2aa0fcea42dbe08be0f2f37e8fd1ca.csv\n",
            "File 424 : e24ff71e59344d2bced401bd05daa115.csv\n",
            "File 425 : d8d25ead247a48b044a234fafed88915.csv\n",
            "File 426 : d9446f6e42296d5d8a8ba6d31ba2f912.csv\n",
            "File 427 : d84e87c259a85e974d5c9bddfe242201.csv\n",
            "File 428 : d99ea77a62625c3d13287e99e84b9be4.csv\n",
            "File 429 : dc551a610f08d6defa60cd72cd7f8601.csv\n",
            "File 430 : d494ce925bbaed198ee3b1f7aea6bc73.csv\n",
            "File 431 : e498f4df29dd43accebd6f3380f9c08d.csv\n",
            "File 432 : e7c07178221fae05877197a746415a84.csv\n",
            "File 433 : d550f3b2bf78574e6defe2f76f668ac6.csv\n",
            "File 434 : dbb2cbd9a23bd4c5a1ec4b9c211450ae.csv\n",
            "File 435 : daab1f2d11fcb5f49dd4215c49f9ac9f.csv\n",
            "File 436 : e09f581d7bdc2a3ecfbf3603c3f85363.csv\n",
            "File 437 : e70c4786f125100c5a632af07c824e63.csv\n",
            "File 438 : e68d02a42b296798d6ac66cbb60638d9.csv\n",
            "File 439 : e0cc2c520fb12d184d03a744deaa4122.csv\n",
            "File 440 : e53ade3e61842daa4ee1793b648a11a2.csv\n",
            "File 441 : dac088c81a29d98ad19cfb5c648fd1c6.csv\n",
            "File 442 : d5b3831cefd45382aa07cf11bef4894b.csv\n",
            "File 443 : f1089b2f7bbfb4852cd490f4be6116f7.csv\n",
            "File 444 : f15b8da47a22a46e4ed51f6a50d2bc9c.csv\n",
            "File 445 : e81cc3349b02197a403e412ad57157cc.csv\n",
            "File 446 : e9ad4919dead1b391edfec4398bb4bd5.csv\n",
            "File 447 : f3907dc6c3f7f92de153d19cc5504e31.csv\n",
            "File 448 : ee235fb16c76a2aed3add8c22b8a7ffb.csv\n",
            "File 449 : ef072ce7ddfbe736d8639948ec16da8f.csv\n",
            "File 450 : e9c90a1d050c182dd3a80e6530ab4ae4.csv\n",
            "File 451 : e9306488eec0e58449a786f3014e2012.csv\n",
            "File 452 : eb60292b64d802772a666d0f6a7b9850.csv\n",
            "File 453 : ef05c41cac6a9990587741f6f48f963c.csv\n",
            "File 454 : e90056ac45854b198b2f70786150a936.csv\n",
            "File 455 : f1214dde4ed212fe125578da7e839b1a.csv\n",
            "File 456 : ebe4ae4520f74c7ce02d08dfd89e7cf0.csv\n",
            "File 457 : eee279a48a305faa03c9695ac21b8b86.csv\n",
            "File 458 : e8ec34748e5849953bdd3a633bd0b241.csv\n",
            "File 459 : eafc7b8eb16c968c8e3514862524b517.csv\n",
            "File 460 : ecc12b96c2668d4c75dfc53803139117.csv\n",
            "File 461 : f028990eb14740a9e27403df93f2ec23.csv\n",
            "File 462 : e8673dafb9c41296e1b910008f20246d.csv\n",
            "File 463 : e83f6b3a2df3ca1923e4d4aa41ec3b79.csv\n",
            "File 464 : f28cab452941240f5d8ea1de0269969b.csv\n",
            "File 465 : f326a5924bb7d29ae9ba2186ec08ba22.csv\n",
            "File 466 : f37b1690d6b18b184624117e6a2544e5.csv\n",
            "File 467 : f25d92410581c42a32547839acb3182c.csv\n",
            "File 468 : ef807646d64ea0f02e600aa883b872db.csv\n",
            "File 469 : f50a1dbbb0069276b2e4b84b28b6f312.csv\n",
            "File 470 : f00d6027801fe23f7057d062ee5e824a.csv\n",
            "File 471 : f591b5f5e7aabce7be3c965e3a2b22b1.csv\n",
            "File 472 : f3ff7cf81f9d91633ff988573d4d92d2.csv\n",
            "File 473 : fc84a5c8e193b396870458cf50bb4730.csv\n",
            "File 474 : fd60d546700774dcb3786b9f6e631e15.csv\n",
            "File 475 : fe6ff9eaafa246d541b5fc898ab4f9af.csv\n",
            "File 476 : f75a893c06dbe7c64381d64f68ba05ea.csv\n",
            "File 477 : f9c84cfa83e0ffedbbe73545d9321649.csv\n",
            "File 478 : f95f2a4e22fb72f28fc1ad054bb9f833.csv\n",
            "File 479 : fb70236989d2807096d24351218f8ed6.csv\n",
            "File 480 : fbc4db9f1cb44241e8b842626044aff7.csv\n",
            "File 481 : fc6f099e22b355b622e790d2f0276c9a.csv\n",
            "File 482 : fed309c0f4f060ea787a67157f0e6a77.csv\n",
            "File 483 : fdff0438dc338ba560f4d3b9bdedc4e3.csv\n",
            "File 484 : ff1d102d1eaef7a14d9404a16e869e78.csv\n",
            "File 485 : ff7aefe14748d4cfed2a7f6cbc6cb226.csv\n",
            "File 486 : fc9baa2bd54e1aed22218c60f6a831e7.csv\n"
          ],
          "name": "stdout"
        }
      ]
    },
    {
      "cell_type": "code",
      "metadata": {
        "colab": {
          "base_uri": "https://localhost:8080/"
        },
        "id": "ZtBMyEF-b3wg",
        "outputId": "636d5f3c-ae1c-4e2f-cf01-47a68be1f2ef"
      },
      "source": [
        "print(len(feature_dict.keys()))"
      ],
      "execution_count": null,
      "outputs": [
        {
          "output_type": "stream",
          "text": [
            "981557\n"
          ],
          "name": "stdout"
        }
      ]
    }
  ]
}